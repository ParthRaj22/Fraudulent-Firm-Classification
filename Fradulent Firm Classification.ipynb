{
 "cells": [
  {
   "cell_type": "code",
   "execution_count": 1,
   "metadata": {},
   "outputs": [],
   "source": [
    "import pandas as pd\n",
    "import numpy as np"
   ]
  },
  {
   "cell_type": "code",
   "execution_count": 2,
   "metadata": {},
   "outputs": [],
   "source": [
    "audit = pd.read_csv('audit_risk.csv')"
   ]
  },
  {
   "cell_type": "code",
   "execution_count": 3,
   "metadata": {},
   "outputs": [
    {
     "name": "stdout",
     "output_type": "stream",
     "text": [
      "Sector_score      0\n",
      "LOCATION_ID       0\n",
      "PARA_A            0\n",
      "Score_A           0\n",
      "Risk_A            0\n",
      "PARA_B            0\n",
      "Score_B           0\n",
      "Risk_B            0\n",
      "TOTAL             0\n",
      "numbers           0\n",
      "Score_B.1         0\n",
      "Risk_C            0\n",
      "Money_Value       1\n",
      "Score_MV          0\n",
      "Risk_D            0\n",
      "District_Loss     0\n",
      "PROB              0\n",
      "RiSk_E            0\n",
      "History           0\n",
      "Prob              0\n",
      "Risk_F            0\n",
      "Score             0\n",
      "Inherent_Risk     0\n",
      "CONTROL_RISK      0\n",
      "Detection_Risk    0\n",
      "Audit_Risk        0\n",
      "Risk              0\n",
      "dtype: int64\n"
     ]
    }
   ],
   "source": [
    "print(audit.isnull().sum())"
   ]
  },
  {
   "cell_type": "markdown",
   "metadata": {},
   "source": [
    "# Fill NA Values"
   ]
  },
  {
   "cell_type": "code",
   "execution_count": 4,
   "metadata": {},
   "outputs": [],
   "source": [
    "audit['Money_Value']=audit['Money_Value'].fillna(audit['Money_Value'].median())"
   ]
  },
  {
   "cell_type": "code",
   "execution_count": 5,
   "metadata": {},
   "outputs": [],
   "source": [
    "trial = pd.read_csv('trial.csv')"
   ]
  },
  {
   "cell_type": "code",
   "execution_count": 6,
   "metadata": {},
   "outputs": [],
   "source": [
    "trial['Money_Value']=trial['Money_Value'].fillna(trial['Money_Value'].median())"
   ]
  },
  {
   "cell_type": "code",
   "execution_count": 7,
   "metadata": {},
   "outputs": [
    {
     "name": "stdout",
     "output_type": "stream",
     "text": [
      "Sector_score     0\n",
      "LOCATION_ID      0\n",
      "PARA_A           0\n",
      "SCORE_A          0\n",
      "PARA_B           0\n",
      "SCORE_B          0\n",
      "TOTAL            0\n",
      "numbers          0\n",
      "Marks            0\n",
      "Money_Value      0\n",
      "MONEY_Marks      0\n",
      "District         0\n",
      "Loss             0\n",
      "LOSS_SCORE       0\n",
      "History          0\n",
      "History_score    0\n",
      "Score            0\n",
      "Risk             0\n",
      "dtype: int64\n"
     ]
    }
   ],
   "source": [
    "print(trial.isnull().sum())"
   ]
  },
  {
   "cell_type": "code",
   "execution_count": 8,
   "metadata": {},
   "outputs": [],
   "source": [
    "#audit.columns = map(str.lower, audit.columns)"
   ]
  },
  {
   "cell_type": "code",
   "execution_count": 9,
   "metadata": {},
   "outputs": [],
   "source": [
    "#trial.columns = map(str.lower, trial.columns)"
   ]
  },
  {
   "cell_type": "code",
   "execution_count": 10,
   "metadata": {},
   "outputs": [
    {
     "data": {
      "text/plain": [
       "Sector_score      float64\n",
       "LOCATION_ID        object\n",
       "PARA_A            float64\n",
       "Score_A           float64\n",
       "Risk_A            float64\n",
       "PARA_B            float64\n",
       "Score_B           float64\n",
       "Risk_B            float64\n",
       "TOTAL             float64\n",
       "numbers           float64\n",
       "Score_B.1         float64\n",
       "Risk_C            float64\n",
       "Money_Value       float64\n",
       "Score_MV          float64\n",
       "Risk_D            float64\n",
       "District_Loss       int64\n",
       "PROB              float64\n",
       "RiSk_E            float64\n",
       "History             int64\n",
       "Prob              float64\n",
       "Risk_F            float64\n",
       "Score             float64\n",
       "Inherent_Risk     float64\n",
       "CONTROL_RISK      float64\n",
       "Detection_Risk    float64\n",
       "Audit_Risk        float64\n",
       "Risk                int64\n",
       "dtype: object"
      ]
     },
     "execution_count": 10,
     "metadata": {},
     "output_type": "execute_result"
    }
   ],
   "source": [
    "audit.dtypes"
   ]
  },
  {
   "cell_type": "code",
   "execution_count": 11,
   "metadata": {},
   "outputs": [
    {
     "data": {
      "text/plain": [
       "Sector_score     float64\n",
       "LOCATION_ID       object\n",
       "PARA_A           float64\n",
       "SCORE_A            int64\n",
       "PARA_B           float64\n",
       "SCORE_B            int64\n",
       "TOTAL            float64\n",
       "numbers          float64\n",
       "Marks              int64\n",
       "Money_Value      float64\n",
       "MONEY_Marks        int64\n",
       "District           int64\n",
       "Loss               int64\n",
       "LOSS_SCORE         int64\n",
       "History            int64\n",
       "History_score      int64\n",
       "Score            float64\n",
       "Risk               int64\n",
       "dtype: object"
      ]
     },
     "execution_count": 11,
     "metadata": {},
     "output_type": "execute_result"
    }
   ],
   "source": [
    "trial.dtypes #scorea and scoreb(make float),"
   ]
  },
  {
   "cell_type": "code",
   "execution_count": 12,
   "metadata": {},
   "outputs": [],
   "source": [
    "trial['SCORE_A']=trial['SCORE_A'].astype(float)"
   ]
  },
  {
   "cell_type": "code",
   "execution_count": 13,
   "metadata": {},
   "outputs": [],
   "source": [
    "trial['SCORE_B']=trial['SCORE_B'].astype(float)"
   ]
  },
  {
   "cell_type": "code",
   "execution_count": 14,
   "metadata": {},
   "outputs": [],
   "source": [
    "#data=audit.merge(trial, left_on='location_id', right_on='location_id')"
   ]
  },
  {
   "cell_type": "code",
   "execution_count": 15,
   "metadata": {},
   "outputs": [],
   "source": [
    "#data.shape"
   ]
  },
  {
   "cell_type": "markdown",
   "metadata": {},
   "source": [
    "# Remove outliers in audit"
   ]
  },
  {
   "cell_type": "code",
   "execution_count": 16,
   "metadata": {},
   "outputs": [
    {
     "data": {
      "text/plain": [
       "(776, 27)"
      ]
     },
     "execution_count": 16,
     "metadata": {},
     "output_type": "execute_result"
    }
   ],
   "source": [
    "audit.shape"
   ]
  },
  {
   "cell_type": "code",
   "execution_count": 17,
   "metadata": {},
   "outputs": [
    {
     "name": "stdout",
     "output_type": "stream",
     "text": [
      "[[0.67046481 0.30480033 1.42984618 ...        nan 0.14112307 1.24268351]\n",
      " [0.67046481 0.43173627 0.86976136 ...        nan 0.17228042 0.80471013]\n",
      " [0.67046481 0.34187176 0.86976136 ...        nan 0.17748711 0.80471013]\n",
      " ...\n",
      " [1.45599165 0.38944709 0.86976136 ...        nan 0.17796327 0.80471013]\n",
      " [1.45599165 0.39649529 0.86976136 ...        nan 0.17804608 0.80471013]\n",
      " [1.45599165 0.43173627 0.86976136 ...        nan 0.17792186 0.80471013]]\n"
     ]
    },
    {
     "name": "stderr",
     "output_type": "stream",
     "text": [
      "C:\\Users\\parth\\Anaconda3\\lib\\site-packages\\scipy\\stats\\stats.py:2253: RuntimeWarning: invalid value encountered in true_divide\n",
      "  return (a - mns) / sstd\n"
     ]
    }
   ],
   "source": [
    "from scipy import stats\n",
    "z=np.abs(stats.zscore(audit.iloc[:,np.r_[0,2:27]]))\n",
    "print(z) #Warning occurs because some of the columns have standard deviation 0"
   ]
  },
  {
   "cell_type": "code",
   "execution_count": 18,
   "metadata": {},
   "outputs": [
    {
     "name": "stderr",
     "output_type": "stream",
     "text": [
      "C:\\Users\\parth\\Anaconda3\\lib\\site-packages\\ipykernel_launcher.py:1: RuntimeWarning: invalid value encountered in greater\n",
      "  \"\"\"Entry point for launching an IPython kernel.\n"
     ]
    }
   ],
   "source": [
    "outlier =list((np.where(z > 3)))"
   ]
  },
  {
   "cell_type": "code",
   "execution_count": 19,
   "metadata": {},
   "outputs": [],
   "source": [
    "rows=set(outlier[0])"
   ]
  },
  {
   "cell_type": "code",
   "execution_count": 20,
   "metadata": {},
   "outputs": [],
   "source": [
    "delrows =list(rows)"
   ]
  },
  {
   "cell_type": "code",
   "execution_count": 21,
   "metadata": {},
   "outputs": [],
   "source": [
    "audit_dt=audit.drop(delrows)"
   ]
  },
  {
   "cell_type": "markdown",
   "metadata": {},
   "source": [
    "# Remove 100% Skewed Columns"
   ]
  },
  {
   "cell_type": "code",
   "execution_count": 22,
   "metadata": {},
   "outputs": [
    {
     "name": "stdout",
     "output_type": "stream",
     "text": [
      "Sector_score  is---->   27.65 % skewed \n",
      "LOCATION_ID  is---->   9.78 % skewed \n",
      "PARA_A  is---->   20.25 % skewed \n",
      "Score_A  is---->   56.01 % skewed \n",
      "Risk_A  is---->   20.25 % skewed \n",
      "PARA_B  is---->   37.43 % skewed \n",
      "Score_B  is---->   70.53 % skewed \n",
      "Risk_B  is---->   37.43 % skewed \n",
      "TOTAL  is---->   12.29 % skewed \n",
      "numbers  is---->   94.55 % skewed \n",
      "Score_B.1  is---->   94.55 % skewed \n",
      "Risk_C  is---->   94.55 % skewed \n",
      "Money_Value  is---->   45.53 % skewed \n",
      "Score_MV  is---->   78.21 % skewed \n",
      "Risk_D  is---->   45.67 % skewed \n",
      "District_Loss  is---->   85.47 % skewed \n",
      "PROB  is---->   100.00 % skewed \n",
      "RiSk_E  is---->   85.47 % skewed \n",
      "History  is---->   95.95 % skewed \n",
      "Prob  is---->   95.95 % skewed \n",
      "Risk_F  is---->   95.95 % skewed \n",
      "Score  is---->   40.50 % skewed \n",
      "Inherent_Risk  is---->   7.26 % skewed \n",
      "CONTROL_RISK  is---->   81.98 % skewed \n",
      "Detection_Risk  is---->   100.00 % skewed \n",
      "Audit_Risk  is---->   7.26 % skewed \n",
      "Risk  is---->   65.50 % skewed \n"
     ]
    }
   ],
   "source": [
    "#Removing 100% skewed data as they are totally useless and does not help in modeling\n",
    "for i in range(0,len(audit_dt.columns)):\n",
    "    print(audit_dt.columns.values[i],' is---->   {:,.2f}'.format(audit_dt.iloc[:,i].value_counts(normalize=True).values[0]*100), '% skewed ')"
   ]
  },
  {
   "cell_type": "code",
   "execution_count": 23,
   "metadata": {},
   "outputs": [],
   "source": [
    "audit_dt.drop(['PROB'], axis=1, inplace = True)"
   ]
  },
  {
   "cell_type": "code",
   "execution_count": 24,
   "metadata": {},
   "outputs": [],
   "source": [
    "audit_dt.drop(['Detection_Risk'], axis=1, inplace = True)"
   ]
  },
  {
   "cell_type": "code",
   "execution_count": 25,
   "metadata": {},
   "outputs": [
    {
     "data": {
      "text/plain": [
       "(716, 25)"
      ]
     },
     "execution_count": 25,
     "metadata": {},
     "output_type": "execute_result"
    }
   ],
   "source": [
    "audit_dt.shape"
   ]
  },
  {
   "cell_type": "markdown",
   "metadata": {},
   "source": [
    "# Remove Outliers in Trial"
   ]
  },
  {
   "cell_type": "code",
   "execution_count": 26,
   "metadata": {},
   "outputs": [
    {
     "data": {
      "text/plain": [
       "(776, 18)"
      ]
     },
     "execution_count": 26,
     "metadata": {},
     "output_type": "execute_result"
    }
   ],
   "source": [
    "trial.shape"
   ]
  },
  {
   "cell_type": "code",
   "execution_count": 27,
   "metadata": {},
   "outputs": [
    {
     "name": "stdout",
     "output_type": "stream",
     "text": [
      "[[0.67046481 0.30480033 1.42984618 ... 0.24656792 0.35250258 0.77246865]\n",
      " [0.67046481 0.43173627 0.86976136 ... 0.24656792 0.81850259 1.29455091]\n",
      " [0.67046481 0.34187176 0.86976136 ... 0.24656792 0.81850259 1.29455091]\n",
      " ...\n",
      " [1.45599165 0.38944709 0.86976136 ... 0.24656792 0.81850259 1.29455091]\n",
      " [1.45599165 0.39649529 0.86976136 ... 0.24656792 0.81850259 1.29455091]\n",
      " [1.45599165 0.43173627 0.86976136 ... 0.24656792 0.81850259 1.29455091]]\n"
     ]
    }
   ],
   "source": [
    "from scipy import stats\n",
    "z=np.abs(stats.zscore(trial.iloc[:,np.r_[0,2:18]]))\n",
    "print(z) "
   ]
  },
  {
   "cell_type": "code",
   "execution_count": 28,
   "metadata": {},
   "outputs": [],
   "source": [
    "outlier =list((np.where(z > 3)))"
   ]
  },
  {
   "cell_type": "code",
   "execution_count": 29,
   "metadata": {},
   "outputs": [],
   "source": [
    "rows=set(outlier[0])"
   ]
  },
  {
   "cell_type": "code",
   "execution_count": 30,
   "metadata": {},
   "outputs": [],
   "source": [
    "delrows =list(rows)"
   ]
  },
  {
   "cell_type": "code",
   "execution_count": 31,
   "metadata": {},
   "outputs": [],
   "source": [
    "trial_dt=trial.drop(delrows)"
   ]
  },
  {
   "cell_type": "markdown",
   "metadata": {},
   "source": [
    "# Remove 100% Skewed Columns "
   ]
  },
  {
   "cell_type": "code",
   "execution_count": 32,
   "metadata": {},
   "outputs": [
    {
     "name": "stdout",
     "output_type": "stream",
     "text": [
      "Sector_score  is---->   27.65 % skewed \n",
      "LOCATION_ID  is---->   9.78 % skewed \n",
      "PARA_A  is---->   20.25 % skewed \n",
      "SCORE_A  is---->   56.01 % skewed \n",
      "PARA_B  is---->   37.43 % skewed \n",
      "SCORE_B  is---->   70.53 % skewed \n",
      "TOTAL  is---->   12.29 % skewed \n",
      "numbers  is---->   94.55 % skewed \n",
      "Marks  is---->   94.55 % skewed \n",
      "Money_Value  is---->   45.53 % skewed \n",
      "MONEY_Marks  is---->   78.21 % skewed \n",
      "District  is---->   85.47 % skewed \n",
      "Loss  is---->   100.00 % skewed \n",
      "LOSS_SCORE  is---->   100.00 % skewed \n",
      "History  is---->   95.95 % skewed \n",
      "History_score  is---->   95.95 % skewed \n",
      "Score  is---->   40.50 % skewed \n",
      "Risk  is---->   59.50 % skewed \n"
     ]
    }
   ],
   "source": [
    "for i in range(0,len(trial_dt.columns)):\n",
    "    print(trial_dt.columns.values[i],' is---->   {:,.2f}'.format(trial_dt.iloc[:,i].value_counts(normalize=True).values[0]*100), '% skewed ')"
   ]
  },
  {
   "cell_type": "code",
   "execution_count": 33,
   "metadata": {},
   "outputs": [],
   "source": [
    "trial_dt.drop(['Loss'], axis=1, inplace = True)\n",
    "trial_dt.drop(['LOSS_SCORE'], axis=1, inplace = True)"
   ]
  },
  {
   "cell_type": "code",
   "execution_count": 34,
   "metadata": {},
   "outputs": [
    {
     "data": {
      "text/plain": [
       "(716, 16)"
      ]
     },
     "execution_count": 34,
     "metadata": {},
     "output_type": "execute_result"
    }
   ],
   "source": [
    "trial_dt.shape"
   ]
  },
  {
   "cell_type": "markdown",
   "metadata": {},
   "source": [
    "# Merge two datasets into one "
   ]
  },
  {
   "cell_type": "code",
   "execution_count": 35,
   "metadata": {},
   "outputs": [],
   "source": [
    "cols_use = trial_dt.columns.difference(audit_dt.columns)"
   ]
  },
  {
   "cell_type": "code",
   "execution_count": 36,
   "metadata": {},
   "outputs": [
    {
     "data": {
      "text/plain": [
       "Index(['District', 'History_score', 'MONEY_Marks', 'Marks', 'SCORE_A',\n",
       "       'SCORE_B'],\n",
       "      dtype='object')"
      ]
     },
     "execution_count": 36,
     "metadata": {},
     "output_type": "execute_result"
    }
   ],
   "source": [
    "cols_use"
   ]
  },
  {
   "cell_type": "code",
   "execution_count": null,
   "metadata": {},
   "outputs": [],
   "source": []
  },
  {
   "cell_type": "code",
   "execution_count": 37,
   "metadata": {},
   "outputs": [],
   "source": [
    "data = pd.merge(audit_dt,trial_dt[cols_use],how='inner',left_index=True, right_index=True)"
   ]
  },
  {
   "cell_type": "code",
   "execution_count": 38,
   "metadata": {},
   "outputs": [],
   "source": [
    "data = data.drop(['SCORE_A','SCORE_B'],axis = 1)"
   ]
  },
  {
   "cell_type": "code",
   "execution_count": 39,
   "metadata": {},
   "outputs": [
    {
     "name": "stdout",
     "output_type": "stream",
     "text": [
      "<class 'pandas.core.frame.DataFrame'>\n",
      "Int64Index: 716 entries, 0 to 775\n",
      "Data columns (total 29 columns):\n",
      "Sector_score     716 non-null float64\n",
      "LOCATION_ID      716 non-null object\n",
      "PARA_A           716 non-null float64\n",
      "Score_A          716 non-null float64\n",
      "Risk_A           716 non-null float64\n",
      "PARA_B           716 non-null float64\n",
      "Score_B          716 non-null float64\n",
      "Risk_B           716 non-null float64\n",
      "TOTAL            716 non-null float64\n",
      "numbers          716 non-null float64\n",
      "Score_B.1        716 non-null float64\n",
      "Risk_C           716 non-null float64\n",
      "Money_Value      716 non-null float64\n",
      "Score_MV         716 non-null float64\n",
      "Risk_D           716 non-null float64\n",
      "District_Loss    716 non-null int64\n",
      "RiSk_E           716 non-null float64\n",
      "History          716 non-null int64\n",
      "Prob             716 non-null float64\n",
      "Risk_F           716 non-null float64\n",
      "Score            716 non-null float64\n",
      "Inherent_Risk    716 non-null float64\n",
      "CONTROL_RISK     716 non-null float64\n",
      "Audit_Risk       716 non-null float64\n",
      "Risk             716 non-null int64\n",
      "District         716 non-null int64\n",
      "History_score    716 non-null int64\n",
      "MONEY_Marks      716 non-null int64\n",
      "Marks            716 non-null int64\n",
      "dtypes: float64(21), int64(7), object(1)\n",
      "memory usage: 187.8+ KB\n"
     ]
    }
   ],
   "source": [
    "data.info()"
   ]
  },
  {
   "cell_type": "code",
   "execution_count": 40,
   "metadata": {},
   "outputs": [],
   "source": [
    "#data=audit_dt.merge(trial_dt, left_on='location_id', right_on='location_id')"
   ]
  },
  {
   "cell_type": "code",
   "execution_count": 41,
   "metadata": {},
   "outputs": [
    {
     "data": {
      "text/plain": [
       "(716, 29)"
      ]
     },
     "execution_count": 41,
     "metadata": {},
     "output_type": "execute_result"
    }
   ],
   "source": [
    "data.shape"
   ]
  },
  {
   "cell_type": "markdown",
   "metadata": {},
   "source": [
    "# Remove Highly Correlated Columns"
   ]
  },
  {
   "cell_type": "code",
   "execution_count": 42,
   "metadata": {},
   "outputs": [],
   "source": [
    "corrmat= (data.corr().abs())\n",
    "highcorr=np.where(corrmat==1)\n",
    "\n"
   ]
  },
  {
   "cell_type": "code",
   "execution_count": 43,
   "metadata": {},
   "outputs": [
    {
     "data": {
      "text/plain": [
       "(array([ 0,  1,  2,  3,  4,  5,  6,  7,  8,  8,  9, 10, 11, 12, 13, 14, 14,\n",
       "        15, 16, 17, 17, 18, 18, 19, 20, 21, 22, 23, 24, 24, 25, 26, 27, 27],\n",
       "       dtype=int64),\n",
       " array([ 0,  1,  2,  3,  4,  5,  6,  7,  8, 27,  9, 10, 11, 12, 13, 14, 24,\n",
       "        15, 16, 17, 18, 17, 18, 19, 20, 21, 22, 23, 14, 24, 25, 26,  8, 27],\n",
       "       dtype=int64))"
      ]
     },
     "execution_count": 43,
     "metadata": {},
     "output_type": "execute_result"
    }
   ],
   "source": [
    "highcorr"
   ]
  },
  {
   "cell_type": "code",
   "execution_count": 44,
   "metadata": {},
   "outputs": [],
   "source": [
    "highcorr=set([(corrmat.columns[x],corrmat.columns[y]) for x,y in zip(*highcorr) if x!=y])"
   ]
  },
  {
   "cell_type": "code",
   "execution_count": 45,
   "metadata": {},
   "outputs": [],
   "source": [
    "highcorr=list(highcorr)"
   ]
  },
  {
   "cell_type": "code",
   "execution_count": 46,
   "metadata": {},
   "outputs": [
    {
     "name": "stdout",
     "output_type": "stream",
     "text": [
      "Risk_F     Prob ------> 1.0\n",
      "District     District_Loss ------> 1.0\n",
      "numbers     Marks ------> 0.9999999999999999\n",
      "Prob     Risk_F ------> 1.0\n",
      "District_Loss     District ------> 1.0\n",
      "Marks     numbers ------> 0.9999999999999999\n"
     ]
    }
   ],
   "source": [
    "for i in highcorr:\n",
    "    print(i[0],'   ',i[1],'------>',data[i[0]].corr(data[i[1]]))\n",
    "    "
   ]
  },
  {
   "cell_type": "code",
   "execution_count": 47,
   "metadata": {},
   "outputs": [],
   "source": [
    "data = data.drop(['Marks','Risk_F','District'],axis = 1)"
   ]
  },
  {
   "cell_type": "code",
   "execution_count": 48,
   "metadata": {},
   "outputs": [
    {
     "name": "stdout",
     "output_type": "stream",
     "text": [
      "Sector_score     0\n",
      "LOCATION_ID      0\n",
      "PARA_A           0\n",
      "Score_A          0\n",
      "Risk_A           0\n",
      "PARA_B           0\n",
      "Score_B          0\n",
      "Risk_B           0\n",
      "TOTAL            0\n",
      "numbers          0\n",
      "Score_B.1        0\n",
      "Risk_C           0\n",
      "Money_Value      0\n",
      "Score_MV         0\n",
      "Risk_D           0\n",
      "District_Loss    0\n",
      "RiSk_E           0\n",
      "History          0\n",
      "Prob             0\n",
      "Score            0\n",
      "Inherent_Risk    0\n",
      "CONTROL_RISK     0\n",
      "Audit_Risk       0\n",
      "Risk             0\n",
      "History_score    0\n",
      "MONEY_Marks      0\n",
      "dtype: int64\n"
     ]
    }
   ],
   "source": [
    "print(data.isnull().sum())"
   ]
  },
  {
   "cell_type": "code",
   "execution_count": 49,
   "metadata": {},
   "outputs": [
    {
     "data": {
      "text/plain": [
       "(716, 26)"
      ]
     },
     "execution_count": 49,
     "metadata": {},
     "output_type": "execute_result"
    }
   ],
   "source": [
    "data.shape"
   ]
  },
  {
   "cell_type": "code",
   "execution_count": 50,
   "metadata": {},
   "outputs": [
    {
     "data": {
      "text/plain": [
       "array(['Sector_score', 'LOCATION_ID', 'PARA_A', 'Score_A', 'Risk_A',\n",
       "       'PARA_B', 'Score_B', 'Risk_B', 'TOTAL', 'numbers', 'Score_B.1',\n",
       "       'Risk_C', 'Money_Value', 'Score_MV', 'Risk_D', 'District_Loss',\n",
       "       'RiSk_E', 'History', 'Prob', 'Score', 'Inherent_Risk',\n",
       "       'CONTROL_RISK', 'Audit_Risk', 'Risk', 'History_score',\n",
       "       'MONEY_Marks'], dtype=object)"
      ]
     },
     "execution_count": 50,
     "metadata": {},
     "output_type": "execute_result"
    }
   ],
   "source": [
    "data.columns.values"
   ]
  },
  {
   "cell_type": "code",
   "execution_count": 51,
   "metadata": {},
   "outputs": [],
   "source": [
    "#data = pd.concat([data, pd.get_dummies(data['LOCATION_ID'], prefix='LOCID')], axis=1)\n",
    "data.drop(['LOCATION_ID'], axis=1, inplace = True)\n",
    "\n"
   ]
  },
  {
   "cell_type": "code",
   "execution_count": 52,
   "metadata": {},
   "outputs": [],
   "source": [
    "import csv\n",
    "with open('data.csv','w') as csvfile:\n",
    "    writer = csv.writer(csvfile)\n",
    "    writer.writerows(data)\n",
    "    \n",
    "csvfile.close()\n",
    "\n",
    "data.to_csv('data.csv')"
   ]
  },
  {
   "cell_type": "code",
   "execution_count": 53,
   "metadata": {},
   "outputs": [],
   "source": [
    "y = data['Audit_Risk']"
   ]
  },
  {
   "cell_type": "code",
   "execution_count": 54,
   "metadata": {},
   "outputs": [],
   "source": [
    "data.drop(['Audit_Risk'],axis=1, inplace=True)"
   ]
  },
  {
   "cell_type": "code",
   "execution_count": 55,
   "metadata": {},
   "outputs": [],
   "source": [
    "X = data"
   ]
  },
  {
   "cell_type": "code",
   "execution_count": 56,
   "metadata": {},
   "outputs": [],
   "source": [
    "from sklearn.preprocessing import MinMaxScaler\n",
    "from sklearn.model_selection import train_test_split"
   ]
  },
  {
   "cell_type": "code",
   "execution_count": 57,
   "metadata": {},
   "outputs": [],
   "source": [
    "X_train_dt, X_test_dt, y_train, y_test = train_test_split(X,y,random_state=0,)"
   ]
  },
  {
   "cell_type": "code",
   "execution_count": 58,
   "metadata": {},
   "outputs": [
    {
     "data": {
      "text/html": [
       "<div>\n",
       "<style scoped>\n",
       "    .dataframe tbody tr th:only-of-type {\n",
       "        vertical-align: middle;\n",
       "    }\n",
       "\n",
       "    .dataframe tbody tr th {\n",
       "        vertical-align: top;\n",
       "    }\n",
       "\n",
       "    .dataframe thead th {\n",
       "        text-align: right;\n",
       "    }\n",
       "</style>\n",
       "<table border=\"1\" class=\"dataframe\">\n",
       "  <thead>\n",
       "    <tr style=\"text-align: right;\">\n",
       "      <th></th>\n",
       "      <th>Sector_score</th>\n",
       "      <th>PARA_A</th>\n",
       "      <th>Score_A</th>\n",
       "      <th>Risk_A</th>\n",
       "      <th>PARA_B</th>\n",
       "      <th>Score_B</th>\n",
       "      <th>Risk_B</th>\n",
       "      <th>TOTAL</th>\n",
       "      <th>numbers</th>\n",
       "      <th>Score_B.1</th>\n",
       "      <th>...</th>\n",
       "      <th>District_Loss</th>\n",
       "      <th>RiSk_E</th>\n",
       "      <th>History</th>\n",
       "      <th>Prob</th>\n",
       "      <th>Score</th>\n",
       "      <th>Inherent_Risk</th>\n",
       "      <th>CONTROL_RISK</th>\n",
       "      <th>Risk</th>\n",
       "      <th>History_score</th>\n",
       "      <th>MONEY_Marks</th>\n",
       "    </tr>\n",
       "  </thead>\n",
       "  <tbody>\n",
       "    <tr>\n",
       "      <th>0</th>\n",
       "      <td>3.89</td>\n",
       "      <td>4.18</td>\n",
       "      <td>0.6</td>\n",
       "      <td>2.508</td>\n",
       "      <td>2.50</td>\n",
       "      <td>0.2</td>\n",
       "      <td>0.500</td>\n",
       "      <td>6.68</td>\n",
       "      <td>5.0</td>\n",
       "      <td>0.2</td>\n",
       "      <td>...</td>\n",
       "      <td>2</td>\n",
       "      <td>0.4</td>\n",
       "      <td>0</td>\n",
       "      <td>0.2</td>\n",
       "      <td>2.4</td>\n",
       "      <td>8.574</td>\n",
       "      <td>0.4</td>\n",
       "      <td>1</td>\n",
       "      <td>2</td>\n",
       "      <td>2</td>\n",
       "    </tr>\n",
       "    <tr>\n",
       "      <th>1</th>\n",
       "      <td>3.89</td>\n",
       "      <td>0.00</td>\n",
       "      <td>0.2</td>\n",
       "      <td>0.000</td>\n",
       "      <td>4.83</td>\n",
       "      <td>0.2</td>\n",
       "      <td>0.966</td>\n",
       "      <td>4.83</td>\n",
       "      <td>5.0</td>\n",
       "      <td>0.2</td>\n",
       "      <td>...</td>\n",
       "      <td>2</td>\n",
       "      <td>0.4</td>\n",
       "      <td>0</td>\n",
       "      <td>0.2</td>\n",
       "      <td>2.0</td>\n",
       "      <td>2.554</td>\n",
       "      <td>0.4</td>\n",
       "      <td>0</td>\n",
       "      <td>2</td>\n",
       "      <td>2</td>\n",
       "    </tr>\n",
       "    <tr>\n",
       "      <th>2</th>\n",
       "      <td>3.89</td>\n",
       "      <td>0.51</td>\n",
       "      <td>0.2</td>\n",
       "      <td>0.102</td>\n",
       "      <td>0.23</td>\n",
       "      <td>0.2</td>\n",
       "      <td>0.046</td>\n",
       "      <td>0.74</td>\n",
       "      <td>5.0</td>\n",
       "      <td>0.2</td>\n",
       "      <td>...</td>\n",
       "      <td>2</td>\n",
       "      <td>0.4</td>\n",
       "      <td>0</td>\n",
       "      <td>0.2</td>\n",
       "      <td>2.0</td>\n",
       "      <td>1.548</td>\n",
       "      <td>0.4</td>\n",
       "      <td>0</td>\n",
       "      <td>2</td>\n",
       "      <td>2</td>\n",
       "    </tr>\n",
       "    <tr>\n",
       "      <th>4</th>\n",
       "      <td>3.89</td>\n",
       "      <td>0.00</td>\n",
       "      <td>0.2</td>\n",
       "      <td>0.000</td>\n",
       "      <td>0.08</td>\n",
       "      <td>0.2</td>\n",
       "      <td>0.016</td>\n",
       "      <td>0.08</td>\n",
       "      <td>5.0</td>\n",
       "      <td>0.2</td>\n",
       "      <td>...</td>\n",
       "      <td>2</td>\n",
       "      <td>0.4</td>\n",
       "      <td>0</td>\n",
       "      <td>0.2</td>\n",
       "      <td>2.0</td>\n",
       "      <td>1.416</td>\n",
       "      <td>0.4</td>\n",
       "      <td>0</td>\n",
       "      <td>2</td>\n",
       "      <td>2</td>\n",
       "    </tr>\n",
       "    <tr>\n",
       "      <th>5</th>\n",
       "      <td>3.89</td>\n",
       "      <td>0.00</td>\n",
       "      <td>0.2</td>\n",
       "      <td>0.000</td>\n",
       "      <td>0.83</td>\n",
       "      <td>0.2</td>\n",
       "      <td>0.166</td>\n",
       "      <td>0.83</td>\n",
       "      <td>5.0</td>\n",
       "      <td>0.2</td>\n",
       "      <td>...</td>\n",
       "      <td>2</td>\n",
       "      <td>0.4</td>\n",
       "      <td>0</td>\n",
       "      <td>0.2</td>\n",
       "      <td>2.0</td>\n",
       "      <td>2.156</td>\n",
       "      <td>0.4</td>\n",
       "      <td>0</td>\n",
       "      <td>2</td>\n",
       "      <td>2</td>\n",
       "    </tr>\n",
       "  </tbody>\n",
       "</table>\n",
       "<p>5 rows × 24 columns</p>\n",
       "</div>"
      ],
      "text/plain": [
       "   Sector_score  PARA_A  Score_A  Risk_A  PARA_B  Score_B  Risk_B  TOTAL  \\\n",
       "0          3.89    4.18      0.6   2.508    2.50      0.2   0.500   6.68   \n",
       "1          3.89    0.00      0.2   0.000    4.83      0.2   0.966   4.83   \n",
       "2          3.89    0.51      0.2   0.102    0.23      0.2   0.046   0.74   \n",
       "4          3.89    0.00      0.2   0.000    0.08      0.2   0.016   0.08   \n",
       "5          3.89    0.00      0.2   0.000    0.83      0.2   0.166   0.83   \n",
       "\n",
       "   numbers  Score_B.1     ...       District_Loss  RiSk_E  History  Prob  \\\n",
       "0      5.0        0.2     ...                   2     0.4        0   0.2   \n",
       "1      5.0        0.2     ...                   2     0.4        0   0.2   \n",
       "2      5.0        0.2     ...                   2     0.4        0   0.2   \n",
       "4      5.0        0.2     ...                   2     0.4        0   0.2   \n",
       "5      5.0        0.2     ...                   2     0.4        0   0.2   \n",
       "\n",
       "   Score  Inherent_Risk  CONTROL_RISK  Risk  History_score  MONEY_Marks  \n",
       "0    2.4          8.574           0.4     1              2            2  \n",
       "1    2.0          2.554           0.4     0              2            2  \n",
       "2    2.0          1.548           0.4     0              2            2  \n",
       "4    2.0          1.416           0.4     0              2            2  \n",
       "5    2.0          2.156           0.4     0              2            2  \n",
       "\n",
       "[5 rows x 24 columns]"
      ]
     },
     "execution_count": 58,
     "metadata": {},
     "output_type": "execute_result"
    }
   ],
   "source": [
    "X.head()"
   ]
  },
  {
   "cell_type": "code",
   "execution_count": 59,
   "metadata": {},
   "outputs": [],
   "source": [
    "\n",
    "\n",
    "Scaler= MinMaxScaler()\n",
    "X_train = Scaler.fit_transform(X_train_dt)\n",
    "X_test = Scaler.transform(X_test_dt)"
   ]
  },
  {
   "cell_type": "code",
   "execution_count": null,
   "metadata": {},
   "outputs": [],
   "source": []
  },
  {
   "cell_type": "code",
   "execution_count": null,
   "metadata": {},
   "outputs": [],
   "source": []
  },
  {
   "cell_type": "markdown",
   "metadata": {},
   "source": [
    "# Regression"
   ]
  },
  {
   "cell_type": "code",
   "execution_count": 60,
   "metadata": {},
   "outputs": [
    {
     "name": "stdout",
     "output_type": "stream",
     "text": [
      "0.9076969062574484\n",
      "0.8808764094840964\n"
     ]
    }
   ],
   "source": [
    "from sklearn.linear_model import LinearRegression\n",
    "\n",
    "lreg = LinearRegression()\n",
    "lreg.fit(X_train, y_train)\n",
    "print(lreg.score(X_train, y_train))\n",
    "print(lreg.score(X_test, y_test))"
   ]
  },
  {
   "cell_type": "markdown",
   "metadata": {},
   "source": [
    "# Ridge"
   ]
  },
  {
   "cell_type": "code",
   "execution_count": 61,
   "metadata": {},
   "outputs": [],
   "source": [
    "from sklearn.linear_model import Ridge\n",
    "x_range = [0.001,0.01,0.1,1,10,100]\n",
    "train_score_list=[]\n",
    "test_score_list=[]\n",
    "\n",
    "for alpha in x_range: \n",
    "    ridge = Ridge(alpha)\n",
    "    ridge.fit(X_train,y_train)\n",
    "    train_score_list.append(ridge.score(X_train,y_train))\n",
    "    test_score_list.append(ridge.score(X_test, y_test))"
   ]
  },
  {
   "cell_type": "code",
   "execution_count": 62,
   "metadata": {},
   "outputs": [
    {
     "name": "stdout",
     "output_type": "stream",
     "text": [
      "[0.9024150212244078, 0.8975592888295388, 0.8962685445570476, 0.8946287514155248, 0.849946612163181, 0.651151835656014]\n",
      "[0.8793554395889993, 0.8775331679705602, 0.8765728443046983, 0.8780111352899505, 0.8598475620309314, 0.7178619548233908]\n"
     ]
    }
   ],
   "source": [
    "print(train_score_list)\n",
    "print(test_score_list)\n"
   ]
  },
  {
   "cell_type": "code",
   "execution_count": 63,
   "metadata": {},
   "outputs": [
    {
     "data": {
      "text/plain": [
       "Text(0.5,0,'$\\\\alpha$')"
      ]
     },
     "execution_count": 63,
     "metadata": {},
     "output_type": "execute_result"
    },
    {
     "data": {
      "image/png": "[encoded data removed]",
      "text/plain": [
       "<Figure size 1080x360 with 1 Axes>"
      ]
     },
     "metadata": {},
     "output_type": "display_data"
    }
   ],
   "source": [
    "%matplotlib inline\n",
    "import matplotlib.pyplot as plt\n",
    "fig ,ax= plt.subplots(figsize = (15,5))\n",
    "plt.plot(x_range, train_score_list, c = 'g', label = 'Train Score')\n",
    "plt.plot(x_range, test_score_list, c = 'b', label = 'Test Score')\n",
    "plt.xscale('log')\n",
    "plt.legend(loc = 3)\n",
    "plt.xlabel(r'$\\alpha$')"
   ]
  },
  {
   "cell_type": "code",
   "execution_count": 64,
   "metadata": {},
   "outputs": [
    {
     "name": "stdout",
     "output_type": "stream",
     "text": [
      "Train score: 0.8946\n",
      "Test score: 0.8780\n"
     ]
    }
   ],
   "source": [
    "ridge = Ridge(alpha = 1)\n",
    "ridge.fit(X_train,y_train)\n",
    "print('Train score: {:.4f}'.format(ridge.score(X_train,y_train)))\n",
    "print('Test score: {:.4f}'.format(ridge.score(X_test, y_test)))"
   ]
  },
  {
   "cell_type": "code",
   "execution_count": 65,
   "metadata": {},
   "outputs": [
    {
     "data": {
      "text/plain": [
       "array([ 0.57067484,  0.39604554,  0.95241141,  1.42180992,  4.62455781,\n",
       "       -0.24187596,  4.46893874,  4.13976669,  0.41409829,  0.41409829,\n",
       "        0.41409829, 10.74343003,  0.46147793, 10.527419  ,  2.45780808,\n",
       "        2.45780808,  2.68664334,  2.68664334,  0.754383  , 11.76441593,\n",
       "        2.5340865 , -2.86069213,  2.68664334,  0.46147793])"
      ]
     },
     "execution_count": 65,
     "metadata": {},
     "output_type": "execute_result"
    }
   ],
   "source": [
    "ridge.coef_"
   ]
  },
  {
   "cell_type": "code",
   "execution_count": 66,
   "metadata": {},
   "outputs": [
    {
     "data": {
      "text/plain": [
       "11.764415928174158"
      ]
     },
     "execution_count": 66,
     "metadata": {},
     "output_type": "execute_result"
    }
   ],
   "source": [
    "max(ridge.coef_)"
   ]
  },
  {
   "cell_type": "code",
   "execution_count": 67,
   "metadata": {},
   "outputs": [
    {
     "data": {
      "text/plain": [
       "-0.41678149233228323"
      ]
     },
     "execution_count": 67,
     "metadata": {},
     "output_type": "execute_result"
    }
   ],
   "source": [
    "ridge.intercept_"
   ]
  },
  {
   "cell_type": "code",
   "execution_count": 72,
   "metadata": {},
   "outputs": [],
   "source": [
    "%matplotlib inline\n",
    "import numpy as np\n",
    "\n",
    "x_range1 = np.linspace(0.001, 0.1, 50).reshape(-1,1)\n",
    "x_range2 = np.linspace(0.1, 10, 100).reshape(-1,1)"
   ]
  },
  {
   "cell_type": "code",
   "execution_count": 73,
   "metadata": {},
   "outputs": [],
   "source": [
    "x_range = np.append(x_range1, x_range2)\n",
    "coeff = []\n",
    "\n"
   ]
  },
  {
   "cell_type": "code",
   "execution_count": 74,
   "metadata": {},
   "outputs": [
    {
     "data": {
      "image/png": "[encoded data removed]",
      "text/plain": [
       "<Figure size 1080x360 with 1 Axes>"
      ]
     },
     "metadata": {},
     "output_type": "display_data"
    }
   ],
   "source": [
    "fig ,ax= plt.subplots(figsize = (15,5))\n",
    "for alpha in x_range: \n",
    "    ridge = Ridge(alpha)\n",
    "    ridge.fit(X_train,y_train)\n",
    "    coeff.append(ridge.coef_ )\n",
    "    \n",
    "coeff = np.array(coeff)\n",
    "\n",
    "for i in range(0,24):\n",
    "    plt.plot(x_range, coeff[:,i],label = 'feature {:d}'.format(i))\n",
    "    \n",
    "plt.axhline(y=0, xmin=0.001, xmax=9999, linewidth=1, c ='gray')\n",
    "plt.xlabel(r'$\\alpha$')\n",
    "plt.xscale('log')\n",
    "plt.legend(loc='lower center', bbox_to_anchor=(0.5, 1.5),\n",
    "          ncol=3, fancybox=True, shadow=True)\n",
    "plt.show()"
   ]
  },
  {
   "cell_type": "markdown",
   "metadata": {},
   "source": [
    "# Lasso"
   ]
  },
  {
   "cell_type": "code",
   "execution_count": 86,
   "metadata": {},
   "outputs": [
    {
     "name": "stderr",
     "output_type": "stream",
     "text": [
      "C:\\Users\\parth\\Anaconda3\\lib\\site-packages\\sklearn\\linear_model\\coordinate_descent.py:491: ConvergenceWarning: Objective did not converge. You might want to increase the number of iterations. Fitting data with very small alpha may cause precision problems.\n",
      "  ConvergenceWarning)\n"
     ]
    }
   ],
   "source": [
    "from sklearn.linear_model import Lasso\n",
    "x_range = [0.000001,0.00001,0.0001,0.001, 0.01, 0.1, 1]\n",
    "train_score_list = []\n",
    "test_score_list = []\n",
    "\n",
    "for alpha in x_range: \n",
    "    lasso = Lasso(alpha)\n",
    "    lasso.fit(X_train,y_train)\n",
    "    train_score_list.append(lasso.score(X_train,y_train))\n",
    "    test_score_list.append(lasso.score(X_test, y_test))"
   ]
  },
  {
   "cell_type": "code",
   "execution_count": 87,
   "metadata": {},
   "outputs": [
    {
     "name": "stdout",
     "output_type": "stream",
     "text": [
      "[0.8984759322229999, 0.898466913260895, 0.898362748937547, 0.8966754748720904, 0.8952753233656656, 0.8645636436957567, 0.3093785676466878]\n",
      "[0.8772600746507033, 0.8772692734957668, 0.8773508894665999, 0.8763407362817529, 0.8790672764037538, 0.8685928350165445, 0.37493323135009654]\n"
     ]
    }
   ],
   "source": [
    "print(train_score_list)\n",
    "print(test_score_list)"
   ]
  },
  {
   "cell_type": "code",
   "execution_count": 88,
   "metadata": {},
   "outputs": [
    {
     "data": {
      "text/plain": [
       "Text(0.5,0,'$\\\\alpha$')"
      ]
     },
     "execution_count": 88,
     "metadata": {},
     "output_type": "execute_result"
    },
    {
     "data": {
      "image/png": "[encoded data removed]",
      "text/plain": [
       "<Figure size 1080x360 with 1 Axes>"
      ]
     },
     "metadata": {},
     "output_type": "display_data"
    }
   ],
   "source": [
    "%matplotlib inline\n",
    "import matplotlib.pyplot as plt\n",
    "fig ,ax= plt.subplots(figsize = (15,5))\n",
    "plt.plot(x_range, train_score_list, c = 'g', label = 'Train Score')\n",
    "plt.plot(x_range, test_score_list, c = 'b', label = 'Test Score')\n",
    "plt.xscale('log')\n",
    "plt.legend(loc = 3)\n",
    "plt.xlabel(r'$\\alpha$')"
   ]
  },
  {
   "cell_type": "code",
   "execution_count": 89,
   "metadata": {},
   "outputs": [
    {
     "name": "stderr",
     "output_type": "stream",
     "text": [
      "C:\\Users\\parth\\Anaconda3\\lib\\site-packages\\sklearn\\linear_model\\coordinate_descent.py:491: ConvergenceWarning: Objective did not converge. You might want to increase the number of iterations. Fitting data with very small alpha may cause precision problems.\n",
      "  ConvergenceWarning)\n"
     ]
    },
    {
     "data": {
      "image/png": "[encoded data removed]",
      "text/plain": [
       "<Figure size 1080x360 with 1 Axes>"
      ]
     },
     "metadata": {},
     "output_type": "display_data"
    }
   ],
   "source": [
    "%matplotlib inline\n",
    "import numpy as np\n",
    "\n",
    "x_range1 = np.linspace(0.000001, 0.1, 100).reshape(-1,1)\n",
    "x_range2 = np.linspace(0.1, 1, 100).reshape(-1,1)\n",
    "x_range = np.append(x_range1, x_range2)\n",
    "coeff = []\n",
    "\n",
    "fig ,ax= plt.subplots(figsize = (15,5))\n",
    "for alpha in x_range: \n",
    "    lasso = Lasso(alpha)\n",
    "    lasso.fit(X_train,y_train)\n",
    "    coeff.append(lasso.coef_ )\n",
    "    \n",
    "coeff = np.array(coeff)\n",
    "\n",
    "for i in range(0,24):\n",
    "    plt.plot(x_range, coeff[:,i],label = 'feature {:d}'.format(i))\n",
    "    \n",
    "plt.axhline(y=0, xmin=0.001, xmax=9999, linewidth=1, c ='gray')\n",
    "plt.xlabel(r'$\\alpha$')\n",
    "plt.xscale('log')\n",
    "plt.legend(loc='lower center', bbox_to_anchor=(0.5, 1.5),\n",
    "          ncol=3, fancybox=True, shadow=True)\n",
    "plt.show()"
   ]
  },
  {
   "cell_type": "code",
   "execution_count": null,
   "metadata": {},
   "outputs": [],
   "source": []
  },
  {
   "cell_type": "code",
   "execution_count": 90,
   "metadata": {},
   "outputs": [
    {
     "data": {
      "text/plain": [
       "Text(0,0.5,'Audit_Risk')"
      ]
     },
     "execution_count": 90,
     "metadata": {},
     "output_type": "execute_result"
    },
    {
     "data": {
      "image/png": "[encoded data removed]",
      "text/plain": [
       "<Figure size 1080x360 with 1 Axes>"
      ]
     },
     "metadata": {},
     "output_type": "display_data"
    }
   ],
   "source": [
    "%matplotlib inline\n",
    "import matplotlib.pyplot as plt\n",
    "\n",
    "lasso = Lasso(0.000001)\n",
    "X_train_Parab = X_train[:,4].reshape(-1,1)\n",
    "lasso.fit(X_train_Parab,y_train)\n",
    "y_predict = lasso.predict(X_train_Parab)\n",
    "fig ,ax= plt.subplots(figsize = (15,5))\n",
    "plt.plot(X_train_Parab, y_predict, c = 'r')\n",
    "plt.scatter(X_train_Parab,y_train)\n",
    "plt.xlabel('Para_b')\n",
    "plt.ylabel('Audit_Risk')"
   ]
  },
  {
   "cell_type": "code",
   "execution_count": 91,
   "metadata": {},
   "outputs": [
    {
     "data": {
      "text/plain": [
       "Text(0,0.5,'Audit_Risk')"
      ]
     },
     "execution_count": 91,
     "metadata": {},
     "output_type": "execute_result"
    },
    {
     "data": {
      "image/png": "[encoded data removed]",
      "text/plain": [
       "<Figure size 1080x360 with 1 Axes>"
      ]
     },
     "metadata": {},
     "output_type": "display_data"
    }
   ],
   "source": [
    "%matplotlib inline\n",
    "import matplotlib.pyplot as plt\n",
    "\n",
    "lasso = Lasso(0.001)\n",
    "X_train_inherent = X_train[:,19].reshape(-1,1)\n",
    "lasso.fit(X_train_inherent,y_train)\n",
    "y_predict = lasso.predict(X_train_inherent)\n",
    "fig ,ax= plt.subplots(figsize = (15,5))\n",
    "plt.plot(X_train_inherent, y_predict, c = 'r')\n",
    "plt.scatter(X_train_inherent,y_train)\n",
    "plt.xlabel('Inherent Risk')\n",
    "plt.ylabel('Audit_Risk')"
   ]
  },
  {
   "cell_type": "markdown",
   "metadata": {},
   "source": [
    "# SGD Regressor"
   ]
  },
  {
   "cell_type": "code",
   "execution_count": 94,
   "metadata": {},
   "outputs": [
    {
     "name": "stdout",
     "output_type": "stream",
     "text": [
      "-16132946766.572224\n",
      "-16668543902.842993\n"
     ]
    }
   ],
   "source": [
    "from sklearn.linear_model import SGDRegressor\n",
    "sgd_reg = SGDRegressor(random_state=0, max_iter=10000, learning_rate='optimal', penalty='l2')\n",
    "sgd_reg.fit(X_train, y_train)\n",
    "print(sgd_reg.score(X_train, y_train))\n",
    "print(sgd_reg.score(X_test, y_test))"
   ]
  },
  {
   "cell_type": "markdown",
   "metadata": {},
   "source": [
    "# SVM Simple Regression"
   ]
  },
  {
   "cell_type": "code",
   "execution_count": 100,
   "metadata": {},
   "outputs": [
    {
     "name": "stdout",
     "output_type": "stream",
     "text": [
      "0.5060167596102427\n",
      "0.5919514281025977\n"
     ]
    }
   ],
   "source": [
    "from sklearn.svm import SVR\n",
    "clf = SVR()\n",
    "clf.fit(X_train,y_train)\n",
    "print(clf.score(X_train,y_train))\n",
    "print(clf.score(X_test,y_test))"
   ]
  },
  {
   "cell_type": "code",
   "execution_count": null,
   "metadata": {},
   "outputs": [],
   "source": []
  },
  {
   "cell_type": "markdown",
   "metadata": {},
   "source": [
    "# SVM Kernelized Regression - RBF"
   ]
  },
  {
   "cell_type": "code",
   "execution_count": 139,
   "metadata": {},
   "outputs": [],
   "source": [
    "c_range = [1,10,100,200,300]\n",
    "\n",
    "train_score_list = []\n",
    "test_score_list = []\n",
    "\n",
    "for x in c_range:\n",
    "    svr_rbf = SVR(kernel='rbf', C=x, gamma='auto', epsilon=.1)\n",
    "    svr_rbf.fit(X_train,y_train)\n",
    "    train_score_list.append(svr_rbf.score(X_train,y_train))\n",
    "    test_score_list.append(svr_rbf.score(X_test, y_test))"
   ]
  },
  {
   "cell_type": "code",
   "execution_count": 140,
   "metadata": {},
   "outputs": [
    {
     "name": "stdout",
     "output_type": "stream",
     "text": [
      "[0.5060167596102427, 0.8461285116976154, 0.9592423859990995, 0.985448933379124, 0.9939974497700347]\n",
      "[0.5919514281025977, 0.8786269765022873, 0.9591005632111863, 0.9529107643448077, 0.9515347490077933]\n"
     ]
    }
   ],
   "source": [
    "print(train_score_list)\n",
    "print(test_score_list)"
   ]
  },
  {
   "cell_type": "code",
   "execution_count": 141,
   "metadata": {},
   "outputs": [
    {
     "data": {
      "text/plain": [
       "Text(0.5,0,'C')"
      ]
     },
     "execution_count": 141,
     "metadata": {},
     "output_type": "execute_result"
    },
    {
     "data": {
      "image/png": "[encoded data removed]",
      "text/plain": [
       "<Figure size 1080x360 with 1 Axes>"
      ]
     },
     "metadata": {},
     "output_type": "display_data"
    }
   ],
   "source": [
    "%matplotlib inline\n",
    "import matplotlib.pyplot as plt\n",
    "fig ,ax= plt.subplots(figsize = (15,5))\n",
    "plt.plot(c_range, train_score_list, c = 'g', label = 'Train Score')\n",
    "plt.plot(c_range, test_score_list, c = 'b', label = 'Test Score')\n",
    "#plt.xscale('log')\n",
    "plt.legend(loc = 3)\n",
    "plt.xlabel(r'C')"
   ]
  },
  {
   "cell_type": "code",
   "execution_count": 142,
   "metadata": {},
   "outputs": [],
   "source": [
    "g_range = [0.01,0.1,1,5]\n",
    "\n",
    "train_score_list = []\n",
    "test_score_list = []\n",
    "\n",
    "for x in g_range:\n",
    "    svr_rbf = SVR(kernel='rbf', C=200, gamma=x, epsilon=.1)\n",
    "    svr_rbf.fit(X_train,y_train)\n",
    "    train_score_list.append(svr_rbf.score(X_train,y_train))\n",
    "    test_score_list.append(svr_rbf.score(X_test, y_test))"
   ]
  },
  {
   "cell_type": "code",
   "execution_count": 143,
   "metadata": {},
   "outputs": [
    {
     "name": "stdout",
     "output_type": "stream",
     "text": [
      "[0.9168999980523355, 0.9997687372902656, 0.9998935204454846, 0.9998789649948756]\n",
      "[0.9263743796789052, 0.9817595155614295, 0.8245661606903202, 0.64228991038444]\n"
     ]
    }
   ],
   "source": [
    "print(train_score_list)\n",
    "print(test_score_list)"
   ]
  },
  {
   "cell_type": "code",
   "execution_count": 144,
   "metadata": {},
   "outputs": [
    {
     "data": {
      "text/plain": [
       "Text(0.5,0,'Gamma')"
      ]
     },
     "execution_count": 144,
     "metadata": {},
     "output_type": "execute_result"
    },
    {
     "data": {
      "image/png": "[encoded data removed]",
      "text/plain": [
       "<Figure size 1080x360 with 1 Axes>"
      ]
     },
     "metadata": {},
     "output_type": "display_data"
    }
   ],
   "source": [
    "%matplotlib inline\n",
    "import matplotlib.pyplot as plt\n",
    "fig ,ax= plt.subplots(figsize = (15,5))\n",
    "plt.plot(g_range, train_score_list, c = 'g', label = 'Train Score')\n",
    "plt.plot(g_range, test_score_list, c = 'b', label = 'Test Score')\n",
    "#plt.xscale('log')\n",
    "plt.legend(loc = 3)\n",
    "plt.xlabel(r'Gamma')"
   ]
  },
  {
   "cell_type": "code",
   "execution_count": null,
   "metadata": {},
   "outputs": [],
   "source": []
  },
  {
   "cell_type": "markdown",
   "metadata": {},
   "source": [
    "# SVM Kernelized Regression - Linear\n"
   ]
  },
  {
   "cell_type": "code",
   "execution_count": 146,
   "metadata": {},
   "outputs": [],
   "source": [
    "c_range = [1,10,100,200,300]\n",
    "\n",
    "train_score_list = []\n",
    "test_score_list = []\n",
    "\n",
    "for x in c_range:\n",
    "    svr_lin = SVR(kernel='linear', C=x)\n",
    "    svr_lin.fit(X_train,y_train)\n",
    "    train_score_list.append(svr_lin.score(X_train,y_train))\n",
    "    test_score_list.append(svr_lin.score(X_test, y_test))"
   ]
  },
  {
   "cell_type": "code",
   "execution_count": 147,
   "metadata": {},
   "outputs": [
    {
     "name": "stdout",
     "output_type": "stream",
     "text": [
      "[0.823146316714535, 0.826388351325426, 0.8270944542676535, 0.8272125272592424, 0.8273468040343605]\n",
      "[0.846897845797304, 0.8487884573249889, 0.848936174603426, 0.8489390566254263, 0.8489925804997965]\n"
     ]
    }
   ],
   "source": [
    "print(train_score_list)\n",
    "print(test_score_list)"
   ]
  },
  {
   "cell_type": "code",
   "execution_count": 148,
   "metadata": {},
   "outputs": [
    {
     "data": {
      "text/plain": [
       "Text(0.5,0,'C')"
      ]
     },
     "execution_count": 148,
     "metadata": {},
     "output_type": "execute_result"
    },
    {
     "data": {
      "image/png": "[encoded data removed]",
      "text/plain": [
       "<Figure size 1080x360 with 1 Axes>"
      ]
     },
     "metadata": {},
     "output_type": "display_data"
    }
   ],
   "source": [
    "%matplotlib inline\n",
    "import matplotlib.pyplot as plt\n",
    "fig ,ax= plt.subplots(figsize = (15,5))\n",
    "plt.plot(c_range, train_score_list, c = 'g', label = 'Train Score')\n",
    "plt.plot(c_range, test_score_list, c = 'b', label = 'Test Score')\n",
    "#plt.xscale('log')\n",
    "plt.legend(loc = 3)\n",
    "plt.xlabel(r'C')"
   ]
  },
  {
   "cell_type": "code",
   "execution_count": null,
   "metadata": {},
   "outputs": [],
   "source": []
  },
  {
   "cell_type": "markdown",
   "metadata": {},
   "source": [
    "# SVM Kernelized Regression - Polynomial"
   ]
  },
  {
   "cell_type": "code",
   "execution_count": 158,
   "metadata": {},
   "outputs": [],
   "source": [
    "deg_range = [1,2,3,4]\n",
    "\n",
    "train_score_list = []\n",
    "test_score_list = []\n",
    "\n",
    "for x in deg_range:\n",
    "    svr_poly = SVR(kernel='poly', C=200, degree=x, epsilon=.1,coef0=1)\n",
    "    svr_poly.fit(X_train,y_train)\n",
    "    train_score_list.append(svr_poly.score(X_train,y_train))\n",
    "    test_score_list.append(svr_poly.score(X_test, y_test))"
   ]
  },
  {
   "cell_type": "code",
   "execution_count": 159,
   "metadata": {},
   "outputs": [
    {
     "name": "stdout",
     "output_type": "stream",
     "text": [
      "[0.8262928203469615, 0.978505801887387, 0.9974683339201073, 0.9998036549310705]\n",
      "[0.8487427871145362, 0.9551316682053572, 0.9666178199561031, 0.9888870512451546]\n"
     ]
    }
   ],
   "source": [
    "print(train_score_list)\n",
    "print(test_score_list)"
   ]
  },
  {
   "cell_type": "code",
   "execution_count": 160,
   "metadata": {},
   "outputs": [
    {
     "data": {
      "text/plain": [
       "Text(0.5,0,'Degree')"
      ]
     },
     "execution_count": 160,
     "metadata": {},
     "output_type": "execute_result"
    },
    {
     "data": {
      "image/png": "[encoded data removed]",
      "text/plain": [
       "<Figure size 1080x360 with 1 Axes>"
      ]
     },
     "metadata": {},
     "output_type": "display_data"
    }
   ],
   "source": [
    "%matplotlib inline\n",
    "import matplotlib.pyplot as plt\n",
    "fig ,ax= plt.subplots(figsize = (15,5))\n",
    "plt.plot(deg_range, train_score_list, c = 'g', label = 'Train Score')\n",
    "plt.plot(deg_range, test_score_list, c = 'b', label = 'Test Score')\n",
    "#plt.xscale('log')\n",
    "plt.legend(loc = 3)\n",
    "plt.xlabel(r'Degree')"
   ]
  },
  {
   "cell_type": "code",
   "execution_count": 161,
   "metadata": {},
   "outputs": [],
   "source": [
    "coef_range = [1,2,3,4]\n",
    "\n",
    "train_score_list = []\n",
    "test_score_list = []\n",
    "\n",
    "for x in coef_range:\n",
    "    svr_poly = SVR(kernel='poly', C=200, degree=4, epsilon=.1,coef0=x)\n",
    "    svr_poly.fit(X_train,y_train)\n",
    "    train_score_list.append(svr_poly.score(X_train,y_train))\n",
    "    test_score_list.append(svr_poly.score(X_test, y_test))"
   ]
  },
  {
   "cell_type": "code",
   "execution_count": 162,
   "metadata": {},
   "outputs": [
    {
     "name": "stdout",
     "output_type": "stream",
     "text": [
      "[0.9998036549310705, 0.9998971268104676, 0.9999119801226456, 0.9999144358949384]\n",
      "[0.9888870512451546, 0.9960514835132477, 0.9972696673280446, 0.9978322700113073]\n"
     ]
    }
   ],
   "source": [
    "print(train_score_list)\n",
    "print(test_score_list)"
   ]
  },
  {
   "cell_type": "code",
   "execution_count": 163,
   "metadata": {},
   "outputs": [
    {
     "data": {
      "text/plain": [
       "Text(0.5,0,'Coef')"
      ]
     },
     "execution_count": 163,
     "metadata": {},
     "output_type": "execute_result"
    },
    {
     "data": {
      "image/png": "[encoded data removed]",
      "text/plain": [
       "<Figure size 1080x360 with 1 Axes>"
      ]
     },
     "metadata": {},
     "output_type": "display_data"
    }
   ],
   "source": [
    "%matplotlib inline\n",
    "import matplotlib.pyplot as plt\n",
    "fig ,ax= plt.subplots(figsize = (15,5))\n",
    "plt.plot(coef_range, train_score_list, c = 'g', label = 'Train Score')\n",
    "plt.plot(coef_range, test_score_list, c = 'b', label = 'Test Score')\n",
    "#plt.xscale('log')\n",
    "plt.legend(loc = 3)\n",
    "plt.xlabel(r'Coef')"
   ]
  },
  {
   "cell_type": "markdown",
   "metadata": {},
   "source": [
    "# Classification Task"
   ]
  },
  {
   "cell_type": "code",
   "execution_count": 164,
   "metadata": {},
   "outputs": [],
   "source": [
    "y = data['Risk']\n",
    "data.drop(['Risk'],axis=1, inplace=True)\n",
    "X= data"
   ]
  },
  {
   "cell_type": "code",
   "execution_count": 165,
   "metadata": {},
   "outputs": [],
   "source": [
    "from sklearn.preprocessing import MinMaxScaler\n",
    "from sklearn.model_selection import train_test_split\n",
    "X_train_dt, X_test_dt, y_train, y_test = train_test_split(X,y,random_state=0,)\n",
    "\n",
    "Scaler= MinMaxScaler()\n",
    "X_train = Scaler.fit_transform(X_train_dt)\n",
    "X_test = Scaler.transform(X_test_dt)"
   ]
  },
  {
   "cell_type": "markdown",
   "metadata": {},
   "source": [
    "# LinearSVC"
   ]
  },
  {
   "cell_type": "code",
   "execution_count": 166,
   "metadata": {},
   "outputs": [
    {
     "name": "stdout",
     "output_type": "stream",
     "text": [
      "0.9813780260707635\n",
      "0.9888268156424581\n"
     ]
    }
   ],
   "source": [
    "\n",
    "from sklearn.svm import LinearSVC\n",
    "\n",
    "clf = LinearSVC()\n",
    "clf.fit(X_train,y_train)\n",
    "print(clf.score(X_train, y_train))\n",
    "print(clf.score(X_test, y_test))"
   ]
  },
  {
   "cell_type": "code",
   "execution_count": null,
   "metadata": {},
   "outputs": [],
   "source": []
  },
  {
   "cell_type": "markdown",
   "metadata": {},
   "source": [
    "# SVC Kernel - RBF"
   ]
  },
  {
   "cell_type": "code",
   "execution_count": 178,
   "metadata": {},
   "outputs": [],
   "source": [
    "from sklearn.svm import SVC\n",
    "\n",
    "c_range = [1,10,100,200,300]\n",
    "\n",
    "train_score_list = []\n",
    "test_score_list = []\n",
    "\n",
    "for x in c_range:\n",
    "    svc_rbf = SVC(kernel='rbf', gamma='auto',C=x)\n",
    "    svc_rbf.fit(X_train,y_train)\n",
    "    train_score_list.append(svc_rbf.score(X_train,y_train))\n",
    "    test_score_list.append(svc_rbf.score(X_test, y_test))"
   ]
  },
  {
   "cell_type": "code",
   "execution_count": 179,
   "metadata": {},
   "outputs": [
    {
     "name": "stdout",
     "output_type": "stream",
     "text": [
      "[0.9664804469273743, 0.9739292364990689, 0.9832402234636871, 0.9851024208566108, 0.9851024208566108]\n",
      "[0.9776536312849162, 0.9832402234636871, 0.9832402234636871, 0.9888268156424581, 0.9888268156424581]\n"
     ]
    }
   ],
   "source": [
    "print(train_score_list)\n",
    "print(test_score_list)"
   ]
  },
  {
   "cell_type": "code",
   "execution_count": 180,
   "metadata": {},
   "outputs": [
    {
     "data": {
      "text/plain": [
       "Text(0.5,0,'C')"
      ]
     },
     "execution_count": 180,
     "metadata": {},
     "output_type": "execute_result"
    },
    {
     "data": {
      "image/png": "[encoded data removed]",
      "text/plain": [
       "<Figure size 1080x360 with 1 Axes>"
      ]
     },
     "metadata": {},
     "output_type": "display_data"
    }
   ],
   "source": [
    "%matplotlib inline\n",
    "import matplotlib.pyplot as plt\n",
    "fig ,ax= plt.subplots(figsize = (15,5))\n",
    "plt.plot(c_range, train_score_list, c = 'g', label = 'Train Score')\n",
    "plt.plot(c_range, test_score_list, c = 'b', label = 'Test Score')\n",
    "#plt.xscale('log')\n",
    "plt.legend(loc = 3)\n",
    "plt.xlabel(r'C')"
   ]
  },
  {
   "cell_type": "code",
   "execution_count": 181,
   "metadata": {},
   "outputs": [],
   "source": [
    "g_range = [0.01,0.1,1,5]\n",
    "\n",
    "train_score_list = []\n",
    "test_score_list = []\n",
    "\n",
    "for x in g_range:\n",
    "    svc_rbf = SVC(kernel='rbf', gamma=x,C=200)\n",
    "    svc_rbf.fit(X_train,y_train)\n",
    "    train_score_list.append(svc_rbf.score(X_train,y_train))\n",
    "    test_score_list.append(svc_rbf.score(X_test, y_test))"
   ]
  },
  {
   "cell_type": "code",
   "execution_count": 182,
   "metadata": {},
   "outputs": [
    {
     "name": "stdout",
     "output_type": "stream",
     "text": [
      "[0.9832402234636871, 0.9888268156424581, 0.994413407821229, 0.9962756052141527]\n",
      "[0.9888268156424581, 0.9776536312849162, 0.9832402234636871, 0.9720670391061452]\n"
     ]
    }
   ],
   "source": [
    "print(train_score_list)\n",
    "print(test_score_list)"
   ]
  },
  {
   "cell_type": "code",
   "execution_count": 183,
   "metadata": {},
   "outputs": [
    {
     "data": {
      "text/plain": [
       "Text(0.5,0,'Gamma')"
      ]
     },
     "execution_count": 183,
     "metadata": {},
     "output_type": "execute_result"
    },
    {
     "data": {
      "image/png": "[encoded data removed]",
      "text/plain": [
       "<Figure size 1080x360 with 1 Axes>"
      ]
     },
     "metadata": {},
     "output_type": "display_data"
    }
   ],
   "source": [
    "%matplotlib inline\n",
    "import matplotlib.pyplot as plt\n",
    "fig ,ax= plt.subplots(figsize = (15,5))\n",
    "plt.plot(g_range, train_score_list, c = 'g', label = 'Train Score')\n",
    "plt.plot(g_range, test_score_list, c = 'b', label = 'Test Score')\n",
    "#plt.xscale('log')\n",
    "plt.legend(loc = 3)\n",
    "plt.xlabel(r'Gamma')"
   ]
  },
  {
   "cell_type": "code",
   "execution_count": null,
   "metadata": {},
   "outputs": [],
   "source": []
  },
  {
   "cell_type": "markdown",
   "metadata": {},
   "source": [
    "# SVC Kernel - Linear"
   ]
  },
  {
   "cell_type": "code",
   "execution_count": 184,
   "metadata": {},
   "outputs": [
    {
     "name": "stdout",
     "output_type": "stream",
     "text": [
      "[0.9739292364990689, 0.9851024208566108, 0.9925512104283054, 0.9906890130353817, 0.994413407821229]\n",
      "[0.9832402234636871, 0.9832402234636871, 0.9888268156424581, 0.9888268156424581, 0.994413407821229]\n"
     ]
    }
   ],
   "source": [
    "c_range = [1,10,100,200,300]\n",
    "\n",
    "train_score_list = []\n",
    "test_score_list = []\n",
    "\n",
    "for x in c_range:\n",
    "    svc_lin = SVC(kernel='linear', C=x)\n",
    "    svc_lin.fit(X_train,y_train)\n",
    "    train_score_list.append(svc_lin.score(X_train,y_train))\n",
    "    test_score_list.append(svc_lin.score(X_test, y_test))\n",
    "\n",
    "print(train_score_list)\n",
    "print(test_score_list)"
   ]
  },
  {
   "cell_type": "code",
   "execution_count": 185,
   "metadata": {},
   "outputs": [
    {
     "data": {
      "text/plain": [
       "Text(0.5,0,'C')"
      ]
     },
     "execution_count": 185,
     "metadata": {},
     "output_type": "execute_result"
    },
    {
     "data": {
      "image/png": "[encoded data removed]",
      "text/plain": [
       "<Figure size 1080x360 with 1 Axes>"
      ]
     },
     "metadata": {},
     "output_type": "display_data"
    }
   ],
   "source": [
    "%matplotlib inline\n",
    "import matplotlib.pyplot as plt\n",
    "fig ,ax= plt.subplots(figsize = (15,5))\n",
    "plt.plot(c_range, train_score_list, c = 'g', label = 'Train Score')\n",
    "plt.plot(c_range, test_score_list, c = 'b', label = 'Test Score')\n",
    "#plt.xscale('log')\n",
    "plt.legend(loc = 3)\n",
    "plt.xlabel(r'C')"
   ]
  },
  {
   "cell_type": "markdown",
   "metadata": {},
   "source": [
    "# SVC Kernel - Polynomial"
   ]
  },
  {
   "cell_type": "code",
   "execution_count": 186,
   "metadata": {},
   "outputs": [
    {
     "name": "stdout",
     "output_type": "stream",
     "text": [
      "[0.9869646182495344, 0.9702048417132216, 0.9459962756052142, 0.8715083798882681]\n",
      "[0.9888268156424581, 0.9776536312849162, 0.9608938547486033, 0.8491620111731844]\n"
     ]
    }
   ],
   "source": [
    "deg_range = [1,2,3,4]\n",
    "\n",
    "train_score_list = []\n",
    "test_score_list = []\n",
    "\n",
    "for x in deg_range:\n",
    "    svc_poly = SVC(kernel='poly', degree=x, C=200)\n",
    "    svc_poly.fit(X_train,y_train)\n",
    "    train_score_list.append(svc_poly.score(X_train,y_train))\n",
    "    test_score_list.append(svc_poly.score(X_test, y_test))\n",
    "\n",
    "print(train_score_list)\n",
    "print(test_score_list)"
   ]
  },
  {
   "cell_type": "code",
   "execution_count": 187,
   "metadata": {},
   "outputs": [
    {
     "data": {
      "text/plain": [
       "Text(0.5,0,'Degree')"
      ]
     },
     "execution_count": 187,
     "metadata": {},
     "output_type": "execute_result"
    },
    {
     "data": {
      "image/png": "[encoded data removed]",
      "text/plain": [
       "<Figure size 1080x360 with 1 Axes>"
      ]
     },
     "metadata": {},
     "output_type": "display_data"
    }
   ],
   "source": [
    "%matplotlib inline\n",
    "import matplotlib.pyplot as plt\n",
    "fig ,ax= plt.subplots(figsize = (15,5))\n",
    "plt.plot(deg_range, train_score_list, c = 'g', label = 'Train Score')\n",
    "plt.plot(deg_range, test_score_list, c = 'b', label = 'Test Score')\n",
    "#plt.xscale('log')\n",
    "plt.legend(loc = 3)\n",
    "plt.grid(True)\n",
    "plt.xlabel(r'Degree')"
   ]
  },
  {
   "cell_type": "code",
   "execution_count": 193,
   "metadata": {},
   "outputs": [],
   "source": [
    "deg_range = [1,2,3,4]\n",
    "c_range = [1,10,100,200,300]\n",
    "\n",
    "\n",
    "train_score_list = []\n",
    "test_score_list = []\n",
    "index=[]\n",
    "\n",
    "for x in deg_range:\n",
    "    for c in c_range:\n",
    "        index.append((x,c))\n",
    "        svc_poly = SVC(kernel='poly', degree=x, C=c)\n",
    "        svc_poly.fit(X_train,y_train)\n",
    "        train_score_list.append(svc_poly.score(X_train,y_train))\n",
    "        test_score_list.append(svc_poly.score(X_test, y_test))"
   ]
  },
  {
   "cell_type": "code",
   "execution_count": 194,
   "metadata": {},
   "outputs": [
    {
     "data": {
      "text/plain": [
       "Text(0.5,0,'Degree and C')"
      ]
     },
     "execution_count": 194,
     "metadata": {},
     "output_type": "execute_result"
    },
    {
     "data": {
      "image/png": "[encoded data removed]",
      "text/plain": [
       "<Figure size 1080x360 with 1 Axes>"
      ]
     },
     "metadata": {},
     "output_type": "display_data"
    }
   ],
   "source": [
    "%matplotlib inline\n",
    "import matplotlib.pyplot as plt\n",
    "fig ,ax= plt.subplots(figsize = (15,5))\n",
    "plt.plot(range(len(index)), train_score_list, c = 'g', label = 'Train Score')\n",
    "plt.plot(range(len(index)), test_score_list, c = 'b', label = 'Test Score')\n",
    "plt.legend(loc = 3)\n",
    "plt.grid(True)\n",
    "plt.xticks(range(len(index)), index, rotation=90)\n",
    "plt.xlabel(r'Degree and C')"
   ]
  },
  {
   "cell_type": "code",
   "execution_count": null,
   "metadata": {},
   "outputs": [],
   "source": []
  }
 ],
 "metadata": {
  "kernelspec": {
   "display_name": "Python 3",
   "language": "python",
   "name": "python3"
  },
  "language_info": {
   "codemirror_mode": {
    "name": "ipython",
    "version": 3
   },
   "file_extension": ".py",
   "mimetype": "text/x-python",
   "name": "python",
   "nbconvert_exporter": "python",
   "pygments_lexer": "ipython3",
   "version": "3.6.5"
  }
 },
 "nbformat": 4,
 "nbformat_minor": 2
}
