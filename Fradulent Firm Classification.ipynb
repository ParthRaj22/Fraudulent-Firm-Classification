{
 "cells": [
  {
   "cell_type": "code",
   "execution_count": 1,
   "metadata": {},
   "outputs": [],
   "source": [
    "import pandas as pd\n",
    "import numpy as np"
   ]
  },
  {
   "cell_type": "code",
   "execution_count": 2,
   "metadata": {},
   "outputs": [],
   "source": [
    "audit = pd.read_csv('audit_risk.csv')"
   ]
  },
  {
   "cell_type": "code",
   "execution_count": 3,
   "metadata": {},
   "outputs": [
    {
     "name": "stdout",
     "output_type": "stream",
     "text": [
      "Sector_score      0\n",
      "LOCATION_ID       0\n",
      "PARA_A            0\n",
      "Score_A           0\n",
      "Risk_A            0\n",
      "PARA_B            0\n",
      "Score_B           0\n",
      "Risk_B            0\n",
      "TOTAL             0\n",
      "numbers           0\n",
      "Score_B.1         0\n",
      "Risk_C            0\n",
      "Money_Value       1\n",
      "Score_MV          0\n",
      "Risk_D            0\n",
      "District_Loss     0\n",
      "PROB              0\n",
      "RiSk_E            0\n",
      "History           0\n",
      "Prob              0\n",
      "Risk_F            0\n",
      "Score             0\n",
      "Inherent_Risk     0\n",
      "CONTROL_RISK      0\n",
      "Detection_Risk    0\n",
      "Audit_Risk        0\n",
      "Risk              0\n",
      "dtype: int64\n"
     ]
    }
   ],
   "source": [
    "print(audit.isnull().sum())"
   ]
  },
  {
   "cell_type": "markdown",
   "metadata": {},
   "source": [
    "# Fill NA Values"
   ]
  },
  {
   "cell_type": "code",
   "execution_count": 4,
   "metadata": {},
   "outputs": [],
   "source": [
    "audit['Money_Value']=audit['Money_Value'].fillna(audit['Money_Value'].median())"
   ]
  },
  {
   "cell_type": "code",
   "execution_count": 5,
   "metadata": {},
   "outputs": [],
   "source": [
    "trial = pd.read_csv('trial.csv')"
   ]
  },
  {
   "cell_type": "code",
   "execution_count": 6,
   "metadata": {},
   "outputs": [],
   "source": [
    "trial['Money_Value']=trial['Money_Value'].fillna(trial['Money_Value'].median())"
   ]
  },
  {
   "cell_type": "code",
   "execution_count": 7,
   "metadata": {},
   "outputs": [
    {
     "name": "stdout",
     "output_type": "stream",
     "text": [
      "Sector_score     0\n",
      "LOCATION_ID      0\n",
      "PARA_A           0\n",
      "SCORE_A          0\n",
      "PARA_B           0\n",
      "SCORE_B          0\n",
      "TOTAL            0\n",
      "numbers          0\n",
      "Marks            0\n",
      "Money_Value      0\n",
      "MONEY_Marks      0\n",
      "District         0\n",
      "Loss             0\n",
      "LOSS_SCORE       0\n",
      "History          0\n",
      "History_score    0\n",
      "Score            0\n",
      "Risk             0\n",
      "dtype: int64\n"
     ]
    }
   ],
   "source": [
    "print(trial.isnull().sum())"
   ]
  },
  {
   "cell_type": "code",
   "execution_count": 8,
   "metadata": {},
   "outputs": [],
   "source": [
    "#audit.columns = map(str.lower, audit.columns)"
   ]
  },
  {
   "cell_type": "code",
   "execution_count": 9,
   "metadata": {},
   "outputs": [],
   "source": [
    "#trial.columns = map(str.lower, trial.columns)"
   ]
  },
  {
   "cell_type": "code",
   "execution_count": 10,
   "metadata": {},
   "outputs": [
    {
     "data": {
      "text/plain": [
       "Sector_score      float64\n",
       "LOCATION_ID        object\n",
       "PARA_A            float64\n",
       "Score_A           float64\n",
       "Risk_A            float64\n",
       "PARA_B            float64\n",
       "Score_B           float64\n",
       "Risk_B            float64\n",
       "TOTAL             float64\n",
       "numbers           float64\n",
       "Score_B.1         float64\n",
       "Risk_C            float64\n",
       "Money_Value       float64\n",
       "Score_MV          float64\n",
       "Risk_D            float64\n",
       "District_Loss       int64\n",
       "PROB              float64\n",
       "RiSk_E            float64\n",
       "History             int64\n",
       "Prob              float64\n",
       "Risk_F            float64\n",
       "Score             float64\n",
       "Inherent_Risk     float64\n",
       "CONTROL_RISK      float64\n",
       "Detection_Risk    float64\n",
       "Audit_Risk        float64\n",
       "Risk                int64\n",
       "dtype: object"
      ]
     },
     "execution_count": 10,
     "metadata": {},
     "output_type": "execute_result"
    }
   ],
   "source": [
    "audit.dtypes"
   ]
  },
  {
   "cell_type": "code",
   "execution_count": 11,
   "metadata": {},
   "outputs": [
    {
     "data": {
      "text/plain": [
       "Sector_score     float64\n",
       "LOCATION_ID       object\n",
       "PARA_A           float64\n",
       "SCORE_A            int64\n",
       "PARA_B           float64\n",
       "SCORE_B            int64\n",
       "TOTAL            float64\n",
       "numbers          float64\n",
       "Marks              int64\n",
       "Money_Value      float64\n",
       "MONEY_Marks        int64\n",
       "District           int64\n",
       "Loss               int64\n",
       "LOSS_SCORE         int64\n",
       "History            int64\n",
       "History_score      int64\n",
       "Score            float64\n",
       "Risk               int64\n",
       "dtype: object"
      ]
     },
     "execution_count": 11,
     "metadata": {},
     "output_type": "execute_result"
    }
   ],
   "source": [
    "trial.dtypes #scorea and scoreb(make float),"
   ]
  },
  {
   "cell_type": "code",
   "execution_count": 12,
   "metadata": {},
   "outputs": [],
   "source": [
    "trial['SCORE_A']=trial['SCORE_A'].astype(float)"
   ]
  },
  {
   "cell_type": "code",
   "execution_count": 13,
   "metadata": {},
   "outputs": [],
   "source": [
    "trial['SCORE_B']=trial['SCORE_B'].astype(float)"
   ]
  },
  {
   "cell_type": "code",
   "execution_count": 14,
   "metadata": {},
   "outputs": [],
   "source": [
    "#data=audit.merge(trial, left_on='location_id', right_on='location_id')"
   ]
  },
  {
   "cell_type": "code",
   "execution_count": 15,
   "metadata": {},
   "outputs": [],
   "source": [
    "#data.shape"
   ]
  },
  {
   "cell_type": "markdown",
   "metadata": {},
   "source": [
    "# Remove outliers in audit"
   ]
  },
  {
   "cell_type": "code",
   "execution_count": 16,
   "metadata": {},
   "outputs": [
    {
     "data": {
      "text/plain": [
       "(776, 27)"
      ]
     },
     "execution_count": 16,
     "metadata": {},
     "output_type": "execute_result"
    }
   ],
   "source": [
    "audit.shape"
   ]
  },
  {
   "cell_type": "code",
   "execution_count": 17,
   "metadata": {},
   "outputs": [
    {
     "name": "stdout",
     "output_type": "stream",
     "text": [
      "[[0.67046481 0.30480033 1.42984618 ...        nan 0.14112307 1.24268351]\n",
      " [0.67046481 0.43173627 0.86976136 ...        nan 0.17228042 0.80471013]\n",
      " [0.67046481 0.34187176 0.86976136 ...        nan 0.17748711 0.80471013]\n",
      " ...\n",
      " [1.45599165 0.38944709 0.86976136 ...        nan 0.17796327 0.80471013]\n",
      " [1.45599165 0.39649529 0.86976136 ...        nan 0.17804608 0.80471013]\n",
      " [1.45599165 0.43173627 0.86976136 ...        nan 0.17792186 0.80471013]]\n"
     ]
    },
    {
     "name": "stderr",
     "output_type": "stream",
     "text": [
      "C:\\Users\\parth\\Anaconda3\\lib\\site-packages\\scipy\\stats\\stats.py:2253: RuntimeWarning: invalid value encountered in true_divide\n",
      "  return (a - mns) / sstd\n"
     ]
    }
   ],
   "source": [
    "from scipy import stats\n",
    "z=np.abs(stats.zscore(audit.iloc[:,np.r_[0,2:27]]))\n",
    "print(z) #Warning occurs because some of the columns have standard deviation 0"
   ]
  },
  {
   "cell_type": "code",
   "execution_count": 18,
   "metadata": {},
   "outputs": [
    {
     "name": "stderr",
     "output_type": "stream",
     "text": [
      "C:\\Users\\parth\\Anaconda3\\lib\\site-packages\\ipykernel_launcher.py:1: RuntimeWarning: invalid value encountered in greater\n",
      "  \"\"\"Entry point for launching an IPython kernel.\n"
     ]
    }
   ],
   "source": [
    "outlier =list((np.where(z > 3.99)))"
   ]
  },
  {
   "cell_type": "code",
   "execution_count": 19,
   "metadata": {},
   "outputs": [],
   "source": [
    "rows=set(outlier[0])"
   ]
  },
  {
   "cell_type": "code",
   "execution_count": 20,
   "metadata": {},
   "outputs": [],
   "source": [
    "delrows =list(rows)"
   ]
  },
  {
   "cell_type": "code",
   "execution_count": 21,
   "metadata": {},
   "outputs": [],
   "source": [
    "audit_dt=audit.drop(delrows)"
   ]
  },
  {
   "cell_type": "markdown",
   "metadata": {},
   "source": [
    "# Remove 100% Skewed Columns"
   ]
  },
  {
   "cell_type": "code",
   "execution_count": 22,
   "metadata": {},
   "outputs": [
    {
     "name": "stdout",
     "output_type": "stream",
     "text": [
      "Sector_score  is---->   27.58 % skewed \n",
      "LOCATION_ID  is---->   9.75 % skewed \n",
      "PARA_A  is---->   20.19 % skewed \n",
      "Score_A  is---->   55.85 % skewed \n",
      "Risk_A  is---->   20.19 % skewed \n",
      "PARA_B  is---->   37.33 % skewed \n",
      "Score_B  is---->   70.33 % skewed \n",
      "Risk_B  is---->   37.33 % skewed \n",
      "TOTAL  is---->   12.26 % skewed \n",
      "numbers  is---->   94.57 % skewed \n",
      "Score_B.1  is---->   94.57 % skewed \n",
      "Risk_C  is---->   94.57 % skewed \n",
      "Money_Value  is---->   45.40 % skewed \n",
      "Score_MV  is---->   77.99 % skewed \n",
      "Risk_D  is---->   45.54 % skewed \n",
      "District_Loss  is---->   85.52 % skewed \n",
      "PROB  is---->   100.00 % skewed \n",
      "RiSk_E  is---->   85.52 % skewed \n",
      "History  is---->   95.82 % skewed \n",
      "Prob  is---->   95.82 % skewed \n",
      "Risk_F  is---->   95.82 % skewed \n",
      "Score  is---->   40.39 % skewed \n",
      "Inherent_Risk  is---->   7.24 % skewed \n",
      "CONTROL_RISK  is---->   81.89 % skewed \n",
      "Detection_Risk  is---->   100.00 % skewed \n",
      "Audit_Risk  is---->   7.24 % skewed \n",
      "Risk  is---->   65.32 % skewed \n"
     ]
    }
   ],
   "source": [
    "#Removing 100% skewed data as they are totally useless and does not help in modeling\n",
    "for i in range(0,len(audit_dt.columns)):\n",
    "    print(audit_dt.columns.values[i],' is---->   {:,.2f}'.format(audit_dt.iloc[:,i].value_counts(normalize=True).values[0]*100), '% skewed ')"
   ]
  },
  {
   "cell_type": "code",
   "execution_count": 23,
   "metadata": {},
   "outputs": [],
   "source": [
    "audit_dt.drop(['PROB'], axis=1, inplace = True)"
   ]
  },
  {
   "cell_type": "code",
   "execution_count": 24,
   "metadata": {},
   "outputs": [],
   "source": [
    "audit_dt.drop(['Detection_Risk'], axis=1, inplace = True)"
   ]
  },
  {
   "cell_type": "code",
   "execution_count": 25,
   "metadata": {},
   "outputs": [
    {
     "data": {
      "text/plain": [
       "(718, 25)"
      ]
     },
     "execution_count": 25,
     "metadata": {},
     "output_type": "execute_result"
    }
   ],
   "source": [
    "audit_dt.shape"
   ]
  },
  {
   "cell_type": "markdown",
   "metadata": {},
   "source": [
    "# Remove Outliers in Trial"
   ]
  },
  {
   "cell_type": "markdown",
   "metadata": {},
   "source": [
    "Remove Everything 4 Standard deviation away from mean"
   ]
  },
  {
   "cell_type": "code",
   "execution_count": 26,
   "metadata": {},
   "outputs": [
    {
     "data": {
      "text/plain": [
       "(776, 18)"
      ]
     },
     "execution_count": 26,
     "metadata": {},
     "output_type": "execute_result"
    }
   ],
   "source": [
    "trial.shape"
   ]
  },
  {
   "cell_type": "code",
   "execution_count": 27,
   "metadata": {},
   "outputs": [
    {
     "name": "stdout",
     "output_type": "stream",
     "text": [
      "[[0.67046481 0.30480033 1.42984618 ... 0.24656792 0.35250258 0.77246865]\n",
      " [0.67046481 0.43173627 0.86976136 ... 0.24656792 0.81850259 1.29455091]\n",
      " [0.67046481 0.34187176 0.86976136 ... 0.24656792 0.81850259 1.29455091]\n",
      " ...\n",
      " [1.45599165 0.38944709 0.86976136 ... 0.24656792 0.81850259 1.29455091]\n",
      " [1.45599165 0.39649529 0.86976136 ... 0.24656792 0.81850259 1.29455091]\n",
      " [1.45599165 0.43173627 0.86976136 ... 0.24656792 0.81850259 1.29455091]]\n"
     ]
    }
   ],
   "source": [
    "from scipy import stats\n",
    "z=np.abs(stats.zscore(trial.iloc[:,np.r_[0,2:18]]))\n",
    "print(z) "
   ]
  },
  {
   "cell_type": "code",
   "execution_count": 28,
   "metadata": {},
   "outputs": [],
   "source": [
    "outlier =list((np.where(z > 3.99)))"
   ]
  },
  {
   "cell_type": "code",
   "execution_count": 29,
   "metadata": {},
   "outputs": [],
   "source": [
    "rows=set(outlier[0])"
   ]
  },
  {
   "cell_type": "code",
   "execution_count": 30,
   "metadata": {},
   "outputs": [],
   "source": [
    "delrows =list(rows)"
   ]
  },
  {
   "cell_type": "code",
   "execution_count": 31,
   "metadata": {},
   "outputs": [],
   "source": [
    "trial_dt=trial.drop(delrows)"
   ]
  },
  {
   "cell_type": "markdown",
   "metadata": {},
   "source": [
    "# Remove 100% Skewed Columns "
   ]
  },
  {
   "cell_type": "code",
   "execution_count": 32,
   "metadata": {},
   "outputs": [
    {
     "name": "stdout",
     "output_type": "stream",
     "text": [
      "Sector_score  is---->   27.58 % skewed \n",
      "LOCATION_ID  is---->   9.75 % skewed \n",
      "PARA_A  is---->   20.19 % skewed \n",
      "SCORE_A  is---->   55.85 % skewed \n",
      "PARA_B  is---->   37.33 % skewed \n",
      "SCORE_B  is---->   70.33 % skewed \n",
      "TOTAL  is---->   12.26 % skewed \n",
      "numbers  is---->   94.57 % skewed \n",
      "Marks  is---->   94.57 % skewed \n",
      "Money_Value  is---->   45.40 % skewed \n",
      "MONEY_Marks  is---->   77.99 % skewed \n",
      "District  is---->   85.52 % skewed \n",
      "Loss  is---->   100.00 % skewed \n",
      "LOSS_SCORE  is---->   100.00 % skewed \n",
      "History  is---->   95.82 % skewed \n",
      "History_score  is---->   95.82 % skewed \n",
      "Score  is---->   40.39 % skewed \n",
      "Risk  is---->   59.61 % skewed \n"
     ]
    }
   ],
   "source": [
    "for i in range(0,len(trial_dt.columns)):\n",
    "    print(trial_dt.columns.values[i],' is---->   {:,.2f}'.format(trial_dt.iloc[:,i].value_counts(normalize=True).values[0]*100), '% skewed ')"
   ]
  },
  {
   "cell_type": "code",
   "execution_count": 33,
   "metadata": {},
   "outputs": [],
   "source": [
    "trial_dt.drop(['Loss'], axis=1, inplace = True)\n",
    "trial_dt.drop(['LOSS_SCORE'], axis=1, inplace = True)"
   ]
  },
  {
   "cell_type": "code",
   "execution_count": 34,
   "metadata": {},
   "outputs": [
    {
     "data": {
      "text/plain": [
       "(718, 16)"
      ]
     },
     "execution_count": 34,
     "metadata": {},
     "output_type": "execute_result"
    }
   ],
   "source": [
    "trial_dt.shape"
   ]
  },
  {
   "cell_type": "markdown",
   "metadata": {},
   "source": [
    "# Merge two datasets into one "
   ]
  },
  {
   "cell_type": "code",
   "execution_count": 35,
   "metadata": {},
   "outputs": [],
   "source": [
    "cols_use = trial_dt.columns.difference(audit_dt.columns)"
   ]
  },
  {
   "cell_type": "code",
   "execution_count": 36,
   "metadata": {},
   "outputs": [
    {
     "data": {
      "text/plain": [
       "Index(['District', 'History_score', 'MONEY_Marks', 'Marks', 'SCORE_A',\n",
       "       'SCORE_B'],\n",
       "      dtype='object')"
      ]
     },
     "execution_count": 36,
     "metadata": {},
     "output_type": "execute_result"
    }
   ],
   "source": [
    "cols_use"
   ]
  },
  {
   "cell_type": "code",
   "execution_count": null,
   "metadata": {},
   "outputs": [],
   "source": []
  },
  {
   "cell_type": "code",
   "execution_count": 37,
   "metadata": {},
   "outputs": [],
   "source": [
    "data = pd.merge(audit_dt,trial_dt[cols_use],how='inner',left_index=True, right_index=True)"
   ]
  },
  {
   "cell_type": "code",
   "execution_count": 38,
   "metadata": {},
   "outputs": [],
   "source": [
    "data = data.drop(['SCORE_A','SCORE_B'],axis = 1)"
   ]
  },
  {
   "cell_type": "code",
   "execution_count": 39,
   "metadata": {},
   "outputs": [
    {
     "name": "stdout",
     "output_type": "stream",
     "text": [
      "<class 'pandas.core.frame.DataFrame'>\n",
      "Int64Index: 718 entries, 0 to 775\n",
      "Data columns (total 29 columns):\n",
      "Sector_score     718 non-null float64\n",
      "LOCATION_ID      718 non-null object\n",
      "PARA_A           718 non-null float64\n",
      "Score_A          718 non-null float64\n",
      "Risk_A           718 non-null float64\n",
      "PARA_B           718 non-null float64\n",
      "Score_B          718 non-null float64\n",
      "Risk_B           718 non-null float64\n",
      "TOTAL            718 non-null float64\n",
      "numbers          718 non-null float64\n",
      "Score_B.1        718 non-null float64\n",
      "Risk_C           718 non-null float64\n",
      "Money_Value      718 non-null float64\n",
      "Score_MV         718 non-null float64\n",
      "Risk_D           718 non-null float64\n",
      "District_Loss    718 non-null int64\n",
      "RiSk_E           718 non-null float64\n",
      "History          718 non-null int64\n",
      "Prob             718 non-null float64\n",
      "Risk_F           718 non-null float64\n",
      "Score            718 non-null float64\n",
      "Inherent_Risk    718 non-null float64\n",
      "CONTROL_RISK     718 non-null float64\n",
      "Audit_Risk       718 non-null float64\n",
      "Risk             718 non-null int64\n",
      "District         718 non-null int64\n",
      "History_score    718 non-null int64\n",
      "MONEY_Marks      718 non-null int64\n",
      "Marks            718 non-null int64\n",
      "dtypes: float64(21), int64(7), object(1)\n",
      "memory usage: 188.3+ KB\n"
     ]
    }
   ],
   "source": [
    "data.info()"
   ]
  },
  {
   "cell_type": "code",
   "execution_count": 40,
   "metadata": {},
   "outputs": [],
   "source": [
    "#data=audit_dt.merge(trial_dt, left_on='location_id', right_on='location_id')"
   ]
  },
  {
   "cell_type": "code",
   "execution_count": 41,
   "metadata": {},
   "outputs": [
    {
     "data": {
      "text/plain": [
       "(718, 29)"
      ]
     },
     "execution_count": 41,
     "metadata": {},
     "output_type": "execute_result"
    }
   ],
   "source": [
    "data.shape"
   ]
  },
  {
   "cell_type": "markdown",
   "metadata": {},
   "source": [
    "# Remove Highly Correlated Columns"
   ]
  },
  {
   "cell_type": "code",
   "execution_count": 42,
   "metadata": {},
   "outputs": [],
   "source": [
    "corrmat= (data.corr().abs())\n",
    "highcorr=np.where(corrmat==1)\n",
    "\n"
   ]
  },
  {
   "cell_type": "code",
   "execution_count": 43,
   "metadata": {},
   "outputs": [
    {
     "data": {
      "text/plain": [
       "(array([ 0,  1,  2,  3,  4,  5,  6,  7,  8,  9, 10, 11, 12, 13, 14, 14, 15,\n",
       "        16, 16, 17, 18, 19, 20, 21, 22, 23, 24, 24, 25, 25, 26, 27],\n",
       "       dtype=int64),\n",
       " array([ 0,  1,  2,  3,  4,  5,  6,  7,  8,  9, 10, 11, 12, 13, 14, 24, 15,\n",
       "        16, 25, 17, 18, 19, 20, 21, 22, 23, 14, 24, 16, 25, 26, 27],\n",
       "       dtype=int64))"
      ]
     },
     "execution_count": 43,
     "metadata": {},
     "output_type": "execute_result"
    }
   ],
   "source": [
    "highcorr"
   ]
  },
  {
   "cell_type": "code",
   "execution_count": 44,
   "metadata": {},
   "outputs": [],
   "source": [
    "highcorr=set([(corrmat.columns[x],corrmat.columns[y]) for x,y in zip(*highcorr) if x!=y])"
   ]
  },
  {
   "cell_type": "code",
   "execution_count": 45,
   "metadata": {},
   "outputs": [],
   "source": [
    "highcorr=list(highcorr)"
   ]
  },
  {
   "cell_type": "code",
   "execution_count": 46,
   "metadata": {},
   "outputs": [
    {
     "name": "stdout",
     "output_type": "stream",
     "text": [
      "District_Loss     District ------> 1.0\n",
      "History     History_score ------> 1.0\n",
      "District     District_Loss ------> 1.0\n",
      "History_score     History ------> 1.0\n"
     ]
    }
   ],
   "source": [
    "for i in highcorr:\n",
    "    print(i[0],'   ',i[1],'------>',data[i[0]].corr(data[i[1]]))\n",
    "    "
   ]
  },
  {
   "cell_type": "code",
   "execution_count": 47,
   "metadata": {},
   "outputs": [],
   "source": [
    "data = data.drop(['Marks','Risk_F','District'],axis = 1)"
   ]
  },
  {
   "cell_type": "code",
   "execution_count": 48,
   "metadata": {},
   "outputs": [
    {
     "name": "stdout",
     "output_type": "stream",
     "text": [
      "Sector_score     0\n",
      "LOCATION_ID      0\n",
      "PARA_A           0\n",
      "Score_A          0\n",
      "Risk_A           0\n",
      "PARA_B           0\n",
      "Score_B          0\n",
      "Risk_B           0\n",
      "TOTAL            0\n",
      "numbers          0\n",
      "Score_B.1        0\n",
      "Risk_C           0\n",
      "Money_Value      0\n",
      "Score_MV         0\n",
      "Risk_D           0\n",
      "District_Loss    0\n",
      "RiSk_E           0\n",
      "History          0\n",
      "Prob             0\n",
      "Score            0\n",
      "Inherent_Risk    0\n",
      "CONTROL_RISK     0\n",
      "Audit_Risk       0\n",
      "Risk             0\n",
      "History_score    0\n",
      "MONEY_Marks      0\n",
      "dtype: int64\n"
     ]
    }
   ],
   "source": [
    "print(data.isnull().sum())"
   ]
  },
  {
   "cell_type": "code",
   "execution_count": 49,
   "metadata": {},
   "outputs": [
    {
     "data": {
      "text/plain": [
       "(718, 26)"
      ]
     },
     "execution_count": 49,
     "metadata": {},
     "output_type": "execute_result"
    }
   ],
   "source": [
    "data.shape"
   ]
  },
  {
   "cell_type": "code",
   "execution_count": 50,
   "metadata": {},
   "outputs": [
    {
     "data": {
      "text/plain": [
       "array(['Sector_score', 'LOCATION_ID', 'PARA_A', 'Score_A', 'Risk_A',\n",
       "       'PARA_B', 'Score_B', 'Risk_B', 'TOTAL', 'numbers', 'Score_B.1',\n",
       "       'Risk_C', 'Money_Value', 'Score_MV', 'Risk_D', 'District_Loss',\n",
       "       'RiSk_E', 'History', 'Prob', 'Score', 'Inherent_Risk',\n",
       "       'CONTROL_RISK', 'Audit_Risk', 'Risk', 'History_score',\n",
       "       'MONEY_Marks'], dtype=object)"
      ]
     },
     "execution_count": 50,
     "metadata": {},
     "output_type": "execute_result"
    }
   ],
   "source": [
    "data.columns.values"
   ]
  },
  {
   "cell_type": "code",
   "execution_count": 51,
   "metadata": {},
   "outputs": [],
   "source": [
    "#data = pd.concat([data, pd.get_dummies(data['LOCATION_ID'], prefix='LOCID')], axis=1)\n",
    "data.drop(['LOCATION_ID'], axis=1, inplace = True)\n",
    "\n"
   ]
  },
  {
   "cell_type": "code",
   "execution_count": 52,
   "metadata": {},
   "outputs": [],
   "source": [
    "import csv\n",
    "with open('data.csv','w') as csvfile:\n",
    "    writer = csv.writer(csvfile)\n",
    "    writer.writerows(data)\n",
    "    \n",
    "csvfile.close()\n",
    "\n",
    "data.to_csv('data.csv')"
   ]
  },
  {
   "cell_type": "code",
   "execution_count": 53,
   "metadata": {},
   "outputs": [],
   "source": [
    "y = data['Audit_Risk']"
   ]
  },
  {
   "cell_type": "code",
   "execution_count": 54,
   "metadata": {},
   "outputs": [],
   "source": [
    "X=data.drop(['Audit_Risk'],axis=1, inplace=False)"
   ]
  },
  {
   "cell_type": "code",
   "execution_count": null,
   "metadata": {},
   "outputs": [],
   "source": []
  },
  {
   "cell_type": "code",
   "execution_count": null,
   "metadata": {},
   "outputs": [],
   "source": []
  },
  {
   "cell_type": "code",
   "execution_count": 56,
   "metadata": {},
   "outputs": [],
   "source": [
    "from sklearn.preprocessing import MinMaxScaler\n",
    "from sklearn.model_selection import train_test_split"
   ]
  },
  {
   "cell_type": "code",
   "execution_count": 57,
   "metadata": {},
   "outputs": [],
   "source": [
    "X_train_dt, X_test_dt, y_train, y_test = train_test_split(X,y,random_state=0,)"
   ]
  },
  {
   "cell_type": "code",
   "execution_count": 58,
   "metadata": {},
   "outputs": [
    {
     "data": {
      "text/html": [
       "<div>\n",
       "<style scoped>\n",
       "    .dataframe tbody tr th:only-of-type {\n",
       "        vertical-align: middle;\n",
       "    }\n",
       "\n",
       "    .dataframe tbody tr th {\n",
       "        vertical-align: top;\n",
       "    }\n",
       "\n",
       "    .dataframe thead th {\n",
       "        text-align: right;\n",
       "    }\n",
       "</style>\n",
       "<table border=\"1\" class=\"dataframe\">\n",
       "  <thead>\n",
       "    <tr style=\"text-align: right;\">\n",
       "      <th></th>\n",
       "      <th>Sector_score</th>\n",
       "      <th>PARA_A</th>\n",
       "      <th>Score_A</th>\n",
       "      <th>Risk_A</th>\n",
       "      <th>PARA_B</th>\n",
       "      <th>Score_B</th>\n",
       "      <th>Risk_B</th>\n",
       "      <th>TOTAL</th>\n",
       "      <th>numbers</th>\n",
       "      <th>Score_B.1</th>\n",
       "      <th>...</th>\n",
       "      <th>District_Loss</th>\n",
       "      <th>RiSk_E</th>\n",
       "      <th>History</th>\n",
       "      <th>Prob</th>\n",
       "      <th>Score</th>\n",
       "      <th>Inherent_Risk</th>\n",
       "      <th>CONTROL_RISK</th>\n",
       "      <th>Risk</th>\n",
       "      <th>History_score</th>\n",
       "      <th>MONEY_Marks</th>\n",
       "    </tr>\n",
       "  </thead>\n",
       "  <tbody>\n",
       "    <tr>\n",
       "      <th>0</th>\n",
       "      <td>3.89</td>\n",
       "      <td>4.18</td>\n",
       "      <td>0.6</td>\n",
       "      <td>2.508</td>\n",
       "      <td>2.50</td>\n",
       "      <td>0.2</td>\n",
       "      <td>0.500</td>\n",
       "      <td>6.68</td>\n",
       "      <td>5.0</td>\n",
       "      <td>0.2</td>\n",
       "      <td>...</td>\n",
       "      <td>2</td>\n",
       "      <td>0.4</td>\n",
       "      <td>0</td>\n",
       "      <td>0.2</td>\n",
       "      <td>2.4</td>\n",
       "      <td>8.574</td>\n",
       "      <td>0.4</td>\n",
       "      <td>1</td>\n",
       "      <td>2</td>\n",
       "      <td>2</td>\n",
       "    </tr>\n",
       "    <tr>\n",
       "      <th>1</th>\n",
       "      <td>3.89</td>\n",
       "      <td>0.00</td>\n",
       "      <td>0.2</td>\n",
       "      <td>0.000</td>\n",
       "      <td>4.83</td>\n",
       "      <td>0.2</td>\n",
       "      <td>0.966</td>\n",
       "      <td>4.83</td>\n",
       "      <td>5.0</td>\n",
       "      <td>0.2</td>\n",
       "      <td>...</td>\n",
       "      <td>2</td>\n",
       "      <td>0.4</td>\n",
       "      <td>0</td>\n",
       "      <td>0.2</td>\n",
       "      <td>2.0</td>\n",
       "      <td>2.554</td>\n",
       "      <td>0.4</td>\n",
       "      <td>0</td>\n",
       "      <td>2</td>\n",
       "      <td>2</td>\n",
       "    </tr>\n",
       "    <tr>\n",
       "      <th>2</th>\n",
       "      <td>3.89</td>\n",
       "      <td>0.51</td>\n",
       "      <td>0.2</td>\n",
       "      <td>0.102</td>\n",
       "      <td>0.23</td>\n",
       "      <td>0.2</td>\n",
       "      <td>0.046</td>\n",
       "      <td>0.74</td>\n",
       "      <td>5.0</td>\n",
       "      <td>0.2</td>\n",
       "      <td>...</td>\n",
       "      <td>2</td>\n",
       "      <td>0.4</td>\n",
       "      <td>0</td>\n",
       "      <td>0.2</td>\n",
       "      <td>2.0</td>\n",
       "      <td>1.548</td>\n",
       "      <td>0.4</td>\n",
       "      <td>0</td>\n",
       "      <td>2</td>\n",
       "      <td>2</td>\n",
       "    </tr>\n",
       "    <tr>\n",
       "      <th>4</th>\n",
       "      <td>3.89</td>\n",
       "      <td>0.00</td>\n",
       "      <td>0.2</td>\n",
       "      <td>0.000</td>\n",
       "      <td>0.08</td>\n",
       "      <td>0.2</td>\n",
       "      <td>0.016</td>\n",
       "      <td>0.08</td>\n",
       "      <td>5.0</td>\n",
       "      <td>0.2</td>\n",
       "      <td>...</td>\n",
       "      <td>2</td>\n",
       "      <td>0.4</td>\n",
       "      <td>0</td>\n",
       "      <td>0.2</td>\n",
       "      <td>2.0</td>\n",
       "      <td>1.416</td>\n",
       "      <td>0.4</td>\n",
       "      <td>0</td>\n",
       "      <td>2</td>\n",
       "      <td>2</td>\n",
       "    </tr>\n",
       "    <tr>\n",
       "      <th>5</th>\n",
       "      <td>3.89</td>\n",
       "      <td>0.00</td>\n",
       "      <td>0.2</td>\n",
       "      <td>0.000</td>\n",
       "      <td>0.83</td>\n",
       "      <td>0.2</td>\n",
       "      <td>0.166</td>\n",
       "      <td>0.83</td>\n",
       "      <td>5.0</td>\n",
       "      <td>0.2</td>\n",
       "      <td>...</td>\n",
       "      <td>2</td>\n",
       "      <td>0.4</td>\n",
       "      <td>0</td>\n",
       "      <td>0.2</td>\n",
       "      <td>2.0</td>\n",
       "      <td>2.156</td>\n",
       "      <td>0.4</td>\n",
       "      <td>0</td>\n",
       "      <td>2</td>\n",
       "      <td>2</td>\n",
       "    </tr>\n",
       "  </tbody>\n",
       "</table>\n",
       "<p>5 rows × 24 columns</p>\n",
       "</div>"
      ],
      "text/plain": [
       "   Sector_score  PARA_A  Score_A  Risk_A  PARA_B  Score_B  Risk_B  TOTAL  \\\n",
       "0          3.89    4.18      0.6   2.508    2.50      0.2   0.500   6.68   \n",
       "1          3.89    0.00      0.2   0.000    4.83      0.2   0.966   4.83   \n",
       "2          3.89    0.51      0.2   0.102    0.23      0.2   0.046   0.74   \n",
       "4          3.89    0.00      0.2   0.000    0.08      0.2   0.016   0.08   \n",
       "5          3.89    0.00      0.2   0.000    0.83      0.2   0.166   0.83   \n",
       "\n",
       "   numbers  Score_B.1     ...       District_Loss  RiSk_E  History  Prob  \\\n",
       "0      5.0        0.2     ...                   2     0.4        0   0.2   \n",
       "1      5.0        0.2     ...                   2     0.4        0   0.2   \n",
       "2      5.0        0.2     ...                   2     0.4        0   0.2   \n",
       "4      5.0        0.2     ...                   2     0.4        0   0.2   \n",
       "5      5.0        0.2     ...                   2     0.4        0   0.2   \n",
       "\n",
       "   Score  Inherent_Risk  CONTROL_RISK  Risk  History_score  MONEY_Marks  \n",
       "0    2.4          8.574           0.4     1              2            2  \n",
       "1    2.0          2.554           0.4     0              2            2  \n",
       "2    2.0          1.548           0.4     0              2            2  \n",
       "4    2.0          1.416           0.4     0              2            2  \n",
       "5    2.0          2.156           0.4     0              2            2  \n",
       "\n",
       "[5 rows x 24 columns]"
      ]
     },
     "execution_count": 58,
     "metadata": {},
     "output_type": "execute_result"
    }
   ],
   "source": [
    "X.head()"
   ]
  },
  {
   "cell_type": "code",
   "execution_count": 59,
   "metadata": {},
   "outputs": [],
   "source": [
    "\n",
    "\n",
    "Scaler= MinMaxScaler()\n",
    "X_train = Scaler.fit_transform(X_train_dt)\n",
    "X_test = Scaler.transform(X_test_dt)"
   ]
  },
  {
   "cell_type": "code",
   "execution_count": null,
   "metadata": {},
   "outputs": [],
   "source": []
  },
  {
   "cell_type": "code",
   "execution_count": null,
   "metadata": {},
   "outputs": [],
   "source": []
  },
  {
   "cell_type": "markdown",
   "metadata": {},
   "source": [
    "# Regression"
   ]
  },
  {
   "cell_type": "code",
   "execution_count": 60,
   "metadata": {},
   "outputs": [
    {
     "name": "stdout",
     "output_type": "stream",
     "text": [
      "Train scores: 0.9041907042606854\n",
      "Test scores: 0.8760980847980323\n",
      "Cross-validation Train scores: -5.08778822876897e+18\n",
      "Cross-validation Test scores: 0.5800738185036601\n"
     ]
    }
   ],
   "source": [
    "from sklearn.linear_model import LinearRegression\n",
    "from sklearn.model_selection import cross_val_score\n",
    "\n",
    "lreg = LinearRegression()\n",
    "lreg.fit(X_train, y_train)\n",
    "print(\"Train scores: {}\".format(lreg.score(X_train, y_train)))\n",
    "print(\"Test scores: {}\".format(lreg.score(X_test, y_test)))\n",
    "scorestrain = cross_val_score(lreg, X_train, y_train,cv=3)\n",
    "print(\"Cross-validation Train scores: {}\".format(scorestrain.mean()))\n",
    "scorestest = cross_val_score(lreg, X_test, y_test,cv=3)\n",
    "print(\"Cross-validation Test scores: {}\".format(scorestest.mean()))"
   ]
  },
  {
   "cell_type": "markdown",
   "metadata": {},
   "source": [
    "# Ridge"
   ]
  },
  {
   "cell_type": "code",
   "execution_count": 61,
   "metadata": {},
   "outputs": [],
   "source": [
    "from sklearn.linear_model import Ridge\n",
    "x_range = [0.001,0.01,0.1,1,10,100]\n",
    "train_score_list=[]\n",
    "test_score_list=[]\n",
    "\n",
    "for alpha in x_range: \n",
    "    ridge = Ridge(alpha)\n",
    "    ridge.fit(X_train,y_train)\n",
    "    train_score_list.append(ridge.score(X_train,y_train))\n",
    "    test_score_list.append(ridge.score(X_test, y_test))"
   ]
  },
  {
   "cell_type": "code",
   "execution_count": 62,
   "metadata": {},
   "outputs": [
    {
     "name": "stdout",
     "output_type": "stream",
     "text": [
      "[0.9039864866958103, 0.9033340292299178, 0.9021467777317971, 0.9002291362234939, 0.8515297629271793, 0.6456337753611354]\n",
      "[0.8771731252461896, 0.8804617407748119, 0.8825837169187983, 0.8836860007064591, 0.8491734179832042, 0.6775837672674272]\n"
     ]
    }
   ],
   "source": [
    "print(train_score_list)\n",
    "print(test_score_list)\n"
   ]
  },
  {
   "cell_type": "code",
   "execution_count": 63,
   "metadata": {},
   "outputs": [
    {
     "data": {
      "text/plain": [
       "Text(0.5,0,'$\\\\alpha$')"
      ]
     },
     "execution_count": 63,
     "metadata": {},
     "output_type": "execute_result"
    },
    {
     "data": {
      "image/png": "[encoded data removed]",
      "text/plain": [
       "<Figure size 1080x360 with 1 Axes>"
      ]
     },
     "metadata": {},
     "output_type": "display_data"
    }
   ],
   "source": [
    "%matplotlib inline\n",
    "import matplotlib.pyplot as plt\n",
    "fig ,ax= plt.subplots(figsize = (15,5))\n",
    "plt.plot(x_range, train_score_list, c = 'g', label = 'Train Score')\n",
    "plt.plot(x_range, test_score_list, c = 'b', label = 'Test Score')\n",
    "plt.xscale('log')\n",
    "plt.legend(loc = 3)\n",
    "plt.xlabel(r'$\\alpha$')"
   ]
  },
  {
   "cell_type": "code",
   "execution_count": 64,
   "metadata": {},
   "outputs": [
    {
     "name": "stdout",
     "output_type": "stream",
     "text": [
      "Train score: 0.9002\n",
      "Test score: 0.8837\n",
      "Cross-validation Train scores: 0.8726096671002695\n",
      "Cross-validation Test scores: 0.8140662926930945\n"
     ]
    }
   ],
   "source": [
    "ridge = Ridge(alpha = 1)\n",
    "ridge.fit(X_train,y_train)\n",
    "print('Train score: {:.4f}'.format(ridge.score(X_train,y_train)))\n",
    "print('Test score: {:.4f}'.format(ridge.score(X_test, y_test)))\n",
    "scorestrain = cross_val_score(ridge, X_train, y_train,cv=3)\n",
    "print(\"Cross-validation Train scores: {}\".format(scorestrain.mean()))\n",
    "scorestest = cross_val_score(ridge, X_test, y_test,cv=3)\n",
    "print(\"Cross-validation Test scores: {}\".format(scorestest.mean()))\n"
   ]
  },
  {
   "cell_type": "code",
   "execution_count": 65,
   "metadata": {},
   "outputs": [
    {
     "data": {
      "text/plain": [
       "array([ 0.72810952, -0.13163528,  1.06954352,  1.01754983,  4.1337825 ,\n",
       "        0.07662909,  3.63805709,  4.00144534, -0.06271898, -0.06271898,\n",
       "       -0.06271898, 11.72784168,  0.64545328, 11.51430111,  2.47425235,\n",
       "        2.47425235,  2.78254563,  2.78254563,  0.88426004, 12.54413974,\n",
       "        2.57701677, -3.10963154,  2.78254563,  0.64545328])"
      ]
     },
     "execution_count": 65,
     "metadata": {},
     "output_type": "execute_result"
    }
   ],
   "source": [
    "ridge.coef_"
   ]
  },
  {
   "cell_type": "code",
   "execution_count": 66,
   "metadata": {},
   "outputs": [
    {
     "data": {
      "text/plain": [
       "12.544139741293435"
      ]
     },
     "execution_count": 66,
     "metadata": {},
     "output_type": "execute_result"
    }
   ],
   "source": [
    "max(ridge.coef_)"
   ]
  },
  {
   "cell_type": "code",
   "execution_count": 67,
   "metadata": {},
   "outputs": [
    {
     "data": {
      "text/plain": [
       "-0.5030227034866104"
      ]
     },
     "execution_count": 67,
     "metadata": {},
     "output_type": "execute_result"
    }
   ],
   "source": [
    "ridge.intercept_"
   ]
  },
  {
   "cell_type": "code",
   "execution_count": 68,
   "metadata": {},
   "outputs": [],
   "source": [
    "%matplotlib inline\n",
    "import numpy as np\n",
    "\n",
    "x_range1 = np.linspace(0.001, 0.1, 50).reshape(-1,1)\n",
    "x_range2 = np.linspace(0.1, 10, 100).reshape(-1,1)"
   ]
  },
  {
   "cell_type": "code",
   "execution_count": 69,
   "metadata": {},
   "outputs": [],
   "source": [
    "x_range = np.append(x_range1, x_range2)\n",
    "coeff = []\n",
    "\n"
   ]
  },
  {
   "cell_type": "code",
   "execution_count": 70,
   "metadata": {},
   "outputs": [
    {
     "data": {
      "image/png": "[encoded data removed]",
      "text/plain": [
       "<Figure size 1080x360 with 1 Axes>"
      ]
     },
     "metadata": {},
     "output_type": "display_data"
    }
   ],
   "source": [
    "fig ,ax= plt.subplots(figsize = (15,5))\n",
    "for alpha in x_range: \n",
    "    ridge = Ridge(alpha)\n",
    "    ridge.fit(X_train,y_train)\n",
    "    coeff.append(ridge.coef_ )\n",
    "    \n",
    "coeff = np.array(coeff)\n",
    "\n",
    "for i in range(0,24):\n",
    "    plt.plot(x_range, coeff[:,i],label = 'feature {:d}'.format(i))\n",
    "    \n",
    "plt.axhline(y=0, xmin=0.001, xmax=9999, linewidth=1, c ='gray')\n",
    "plt.xlabel(r'$\\alpha$')\n",
    "plt.xscale('log')\n",
    "plt.legend(loc='lower center', bbox_to_anchor=(0.5, 1.5),\n",
    "          ncol=3, fancybox=True, shadow=True)\n",
    "plt.show()"
   ]
  },
  {
   "cell_type": "markdown",
   "metadata": {},
   "source": [
    "# Lasso"
   ]
  },
  {
   "cell_type": "code",
   "execution_count": 71,
   "metadata": {},
   "outputs": [
    {
     "name": "stderr",
     "output_type": "stream",
     "text": [
      "C:\\Users\\parth\\Anaconda3\\lib\\site-packages\\sklearn\\linear_model\\coordinate_descent.py:491: ConvergenceWarning: Objective did not converge. You might want to increase the number of iterations. Fitting data with very small alpha may cause precision problems.\n",
      "  ConvergenceWarning)\n"
     ]
    }
   ],
   "source": [
    "from sklearn.linear_model import Lasso\n",
    "x_range = [0.000001,0.00001,0.0001,0.001, 0.01, 0.1, 1]\n",
    "train_score_list = []\n",
    "test_score_list = []\n",
    "\n",
    "for alpha in x_range: \n",
    "    lasso = Lasso(alpha)\n",
    "    lasso.fit(X_train,y_train)\n",
    "    train_score_list.append(lasso.score(X_train,y_train))\n",
    "    test_score_list.append(lasso.score(X_test, y_test))"
   ]
  },
  {
   "cell_type": "code",
   "execution_count": 72,
   "metadata": {},
   "outputs": [
    {
     "name": "stdout",
     "output_type": "stream",
     "text": [
      "[0.9038181053432619, 0.9038083121411365, 0.9036885024345158, 0.9025143924704143, 0.9006204130936335, 0.8688705590636502, 0.3218781657667741]\n",
      "[0.879871081537407, 0.8799671993832808, 0.8808922253061141, 0.8836211209714857, 0.8895464652839138, 0.8782396243019034, 0.327105840801009]\n"
     ]
    }
   ],
   "source": [
    "\n",
    "print(train_score_list)\n",
    "print(test_score_list)\n",
    "\n"
   ]
  },
  {
   "cell_type": "code",
   "execution_count": 73,
   "metadata": {},
   "outputs": [
    {
     "data": {
      "text/plain": [
       "Text(0.5,0,'$\\\\alpha$')"
      ]
     },
     "execution_count": 73,
     "metadata": {},
     "output_type": "execute_result"
    },
    {
     "data": {
      "image/png": "[encoded data removed]",
      "text/plain": [
       "<Figure size 1080x360 with 1 Axes>"
      ]
     },
     "metadata": {},
     "output_type": "display_data"
    }
   ],
   "source": [
    "%matplotlib inline\n",
    "import matplotlib.pyplot as plt\n",
    "fig ,ax= plt.subplots(figsize = (15,5))\n",
    "plt.plot(x_range, train_score_list, c = 'g', label = 'Train Score')\n",
    "plt.plot(x_range, test_score_list, c = 'b', label = 'Test Score')\n",
    "plt.xscale('log')\n",
    "plt.legend(loc = 3)\n",
    "plt.xlabel(r'$\\alpha$')"
   ]
  },
  {
   "cell_type": "code",
   "execution_count": null,
   "metadata": {},
   "outputs": [],
   "source": []
  },
  {
   "cell_type": "code",
   "execution_count": 74,
   "metadata": {},
   "outputs": [
    {
     "name": "stderr",
     "output_type": "stream",
     "text": [
      "C:\\Users\\parth\\Anaconda3\\lib\\site-packages\\sklearn\\linear_model\\coordinate_descent.py:491: ConvergenceWarning: Objective did not converge. You might want to increase the number of iterations. Fitting data with very small alpha may cause precision problems.\n",
      "  ConvergenceWarning)\n"
     ]
    },
    {
     "data": {
      "image/png": "[encoded data removed]",
      "text/plain": [
       "<Figure size 1080x360 with 1 Axes>"
      ]
     },
     "metadata": {},
     "output_type": "display_data"
    }
   ],
   "source": [
    "%matplotlib inline\n",
    "import numpy as np\n",
    "\n",
    "x_range1 = np.linspace(0.000001, 0.1, 100).reshape(-1,1)\n",
    "x_range2 = np.linspace(0.1, 1, 100).reshape(-1,1)\n",
    "x_range = np.append(x_range1, x_range2)\n",
    "coeff = []\n",
    "\n",
    "fig ,ax= plt.subplots(figsize = (15,5))\n",
    "for alpha in x_range: \n",
    "    lasso = Lasso(alpha)\n",
    "    lasso.fit(X_train,y_train)\n",
    "    coeff.append(lasso.coef_ )\n",
    "    \n",
    "coeff = np.array(coeff)\n",
    "\n",
    "for i in range(0,24):\n",
    "    plt.plot(x_range, coeff[:,i],label = 'feature {:d}'.format(i))\n",
    "    \n",
    "plt.axhline(y=0, xmin=0.001, xmax=9999, linewidth=1, c ='gray')\n",
    "plt.xlabel(r'$\\alpha$')\n",
    "plt.xscale('log')\n",
    "plt.legend(loc='lower center', bbox_to_anchor=(0.5, 1.5),\n",
    "          ncol=3, fancybox=True, shadow=True)\n",
    "plt.show()"
   ]
  },
  {
   "cell_type": "code",
   "execution_count": 75,
   "metadata": {},
   "outputs": [
    {
     "name": "stdout",
     "output_type": "stream",
     "text": [
      "Train score: 0.9006\n",
      "Test score: 0.8895\n",
      "Cross-validation Train scores: 0.870536178213868\n",
      "Cross-validation Test scores: 0.38764648780477956\n"
     ]
    }
   ],
   "source": [
    "lasso = Lasso(0.01)\n",
    "lasso.fit(X_train,y_train)\n",
    "print('Train score: {:.4f}'.format(lasso.score(X_train,y_train)))\n",
    "print('Test score: {:.4f}'.format(lasso.score(X_test, y_test)))\n",
    "scorestrain = cross_val_score(lasso, X_train, y_train,cv=3)\n",
    "print(\"Cross-validation Train scores: {}\".format(scorestrain.mean()))\n",
    "scorestest = cross_val_score(lasso, X_test, y_test,cv=3)\n",
    "print(\"Cross-validation Test scores: {}\".format(scorestest.mean()))"
   ]
  },
  {
   "cell_type": "code",
   "execution_count": null,
   "metadata": {},
   "outputs": [],
   "source": []
  },
  {
   "cell_type": "code",
   "execution_count": 76,
   "metadata": {},
   "outputs": [
    {
     "data": {
      "text/plain": [
       "Text(0,0.5,'Audit_Risk')"
      ]
     },
     "execution_count": 76,
     "metadata": {},
     "output_type": "execute_result"
    },
    {
     "data": {
      "image/png": "[encoded data removed]",
      "text/plain": [
       "<Figure size 1080x360 with 1 Axes>"
      ]
     },
     "metadata": {},
     "output_type": "display_data"
    }
   ],
   "source": [
    "%matplotlib inline\n",
    "import matplotlib.pyplot as plt\n",
    "\n",
    "lasso = Lasso(0.01)\n",
    "X_train_Parab = X_train[:,4].reshape(-1,1)\n",
    "lasso.fit(X_train_Parab,y_train)\n",
    "y_predict = lasso.predict(X_train_Parab)\n",
    "fig ,ax= plt.subplots(figsize = (15,5))\n",
    "plt.plot(X_train_Parab, y_predict, c = 'r')\n",
    "plt.scatter(X_train_Parab,y_train)\n",
    "plt.xlabel('Para_b')\n",
    "plt.ylabel('Audit_Risk')"
   ]
  },
  {
   "cell_type": "code",
   "execution_count": 77,
   "metadata": {},
   "outputs": [
    {
     "data": {
      "text/plain": [
       "Text(0,0.5,'Audit_Risk')"
      ]
     },
     "execution_count": 77,
     "metadata": {},
     "output_type": "execute_result"
    },
    {
     "data": {
      "image/png": "[encoded data removed]",
      "text/plain": [
       "<Figure size 1080x360 with 1 Axes>"
      ]
     },
     "metadata": {},
     "output_type": "display_data"
    }
   ],
   "source": [
    "%matplotlib inline\n",
    "import matplotlib.pyplot as plt\n",
    "\n",
    "lasso = Lasso(0.01)\n",
    "X_train_inherent = X_train[:,19].reshape(-1,1)\n",
    "lasso.fit(X_train_inherent,y_train)\n",
    "y_predict = lasso.predict(X_train_inherent)\n",
    "fig ,ax= plt.subplots(figsize = (15,5))\n",
    "plt.plot(X_train_inherent, y_predict, c = 'r')\n",
    "plt.scatter(X_train_inherent,y_train)\n",
    "plt.xlabel('Inherent Risk')\n",
    "plt.ylabel('Audit_Risk')"
   ]
  },
  {
   "cell_type": "markdown",
   "metadata": {},
   "source": [
    "# SGD Regressor"
   ]
  },
  {
   "cell_type": "code",
   "execution_count": 78,
   "metadata": {},
   "outputs": [
    {
     "name": "stdout",
     "output_type": "stream",
     "text": [
      "-25029771970.961746\n",
      "-39925473841.77401\n"
     ]
    }
   ],
   "source": [
    "from sklearn.linear_model import SGDRegressor\n",
    "sgd_reg = SGDRegressor(random_state=0, max_iter=10000, learning_rate='optimal', penalty='l2')\n",
    "sgd_reg.fit(X_train, y_train)\n",
    "print(sgd_reg.score(X_train, y_train))\n",
    "print(sgd_reg.score(X_test, y_test))"
   ]
  },
  {
   "cell_type": "markdown",
   "metadata": {},
   "source": [
    "# SVM Simple Regression"
   ]
  },
  {
   "cell_type": "code",
   "execution_count": 79,
   "metadata": {},
   "outputs": [
    {
     "name": "stdout",
     "output_type": "stream",
     "text": [
      "Train scores: 0.5084800762353947\n",
      "Test scores: 0.5432168194291958\n",
      "Cross-validation Train scores: 0.4380239368674827\n",
      "Cross-validation Test scores: 0.3107608486894505\n"
     ]
    }
   ],
   "source": [
    "from sklearn.svm import SVR\n",
    "clf = SVR()\n",
    "clf.fit(X_train,y_train)\n",
    "\n",
    "print(\"Train scores: {}\".format(clf.score(X_train, y_train)))\n",
    "print(\"Test scores: {}\".format(clf.score(X_test, y_test)))\n",
    "scorestrain = cross_val_score(clf, X_train, y_train,cv=3)\n",
    "print(\"Cross-validation Train scores: {}\".format(scorestrain.mean()))\n",
    "scorestest = cross_val_score(clf, X_test, y_test,cv=3)\n",
    "print(\"Cross-validation Test scores: {}\".format(scorestest.mean()))\n"
   ]
  },
  {
   "cell_type": "code",
   "execution_count": null,
   "metadata": {},
   "outputs": [],
   "source": []
  },
  {
   "cell_type": "markdown",
   "metadata": {},
   "source": [
    "# SVM Kernelized Regression - RBF"
   ]
  },
  {
   "cell_type": "code",
   "execution_count": 80,
   "metadata": {},
   "outputs": [],
   "source": [
    "c_range = [1,10,100,200,300]\n",
    "g_range = [0.01,0.1,1,5]\n",
    "\n",
    "train_score_list = []\n",
    "test_score_list = []\n",
    "index = []\n",
    "\n",
    "for x in c_range:\n",
    "    for g in g_range:\n",
    "        index.append((x,g))\n",
    "        svr_rbf = SVR(kernel='rbf', C=x, gamma=g, epsilon=.1)\n",
    "        svr_rbf.fit(X_train,y_train)\n",
    "        train_score_list.append(svr_rbf.score(X_train,y_train))\n",
    "        test_score_list.append(svr_rbf.score(X_test, y_test))"
   ]
  },
  {
   "cell_type": "code",
   "execution_count": 81,
   "metadata": {},
   "outputs": [
    {
     "name": "stdout",
     "output_type": "stream",
     "text": [
      "[0.30761744062699503, 0.581077634929471, 0.4677489138349802, 0.28140215590177153, 0.6433936321216537, 0.8995896428410038, 0.8791972420309093, 0.7776547532469469, 0.8787552075763153, 0.9941099013544685, 0.9998998287015807, 0.9998838380103865, 0.9053454588336657, 0.9982876391692539, 0.9999007771612685, 0.9998838380103865, 0.920243467714338, 0.999762145915163, 0.9999007771612685, 0.9998838380103865]\n",
      "[0.3444931744262629, 0.5950018555762522, 0.4115199492543541, 0.20525005447489186, 0.6824713029943684, 0.8799146335034655, 0.6927502981693172, 0.43653823700719996, 0.8814522211083533, 0.9584479225976538, 0.7607402376631984, 0.48547165647392676, 0.9002966609664297, 0.9743566576707421, 0.7606212394690763, 0.48547165647392676, 0.9107404916317704, 0.982327728038129, 0.7606212394690763, 0.48547165647392676]\n"
     ]
    }
   ],
   "source": [
    "print(train_score_list)\n",
    "print(test_score_list)"
   ]
  },
  {
   "cell_type": "code",
   "execution_count": 82,
   "metadata": {},
   "outputs": [
    {
     "data": {
      "text/plain": [
       "Text(0.5,0,'C and Gamma')"
      ]
     },
     "execution_count": 82,
     "metadata": {},
     "output_type": "execute_result"
    },
    {
     "data": {
      "image/png": "[encoded data removed]",
      "text/plain": [
       "<Figure size 1080x360 with 1 Axes>"
      ]
     },
     "metadata": {},
     "output_type": "display_data"
    }
   ],
   "source": [
    "\n",
    "%matplotlib inline\n",
    "import matplotlib.pyplot as plt\n",
    "fig ,ax= plt.subplots(figsize = (15,5))\n",
    "plt.plot(range(len(index)), train_score_list, c = 'g', label = 'Train Score')\n",
    "plt.plot(range(len(index)), test_score_list, c = 'b', label = 'Test Score')\n",
    "plt.legend(loc = 3)\n",
    "plt.grid(True)\n",
    "plt.xticks(range(len(index)), index, rotation=90)\n",
    "plt.xlabel(r'C and Gamma')"
   ]
  },
  {
   "cell_type": "code",
   "execution_count": 83,
   "metadata": {},
   "outputs": [
    {
     "data": {
      "text/plain": [
       "SVR(C=300, cache_size=200, coef0=0.0, degree=3, epsilon=0.1, gamma=0.1,\n",
       "  kernel='rbf', max_iter=-1, shrinking=True, tol=0.001, verbose=False)"
      ]
     },
     "execution_count": 83,
     "metadata": {},
     "output_type": "execute_result"
    }
   ],
   "source": [
    "svr_rbf = SVR(kernel='rbf', C=300, gamma=0.1, epsilon=.1)\n",
    "svr_rbf.fit(X_train,y_train)"
   ]
  },
  {
   "cell_type": "code",
   "execution_count": 84,
   "metadata": {},
   "outputs": [
    {
     "name": "stdout",
     "output_type": "stream",
     "text": [
      "Train scores: 0.999762145915163\n",
      "Test scores: 0.982327728038129\n",
      "Cross-validation Train scores: 0.9646937271821906\n",
      "Cross-validation Test scores: 0.8363771585232344\n"
     ]
    }
   ],
   "source": [
    "print(\"Train scores: {}\".format(svr_rbf.score(X_train, y_train)))\n",
    "print(\"Test scores: {}\".format(svr_rbf.score(X_test, y_test)))\n",
    "scorestrain = cross_val_score(svr_rbf, X_train, y_train,cv=3)\n",
    "print(\"Cross-validation Train scores: {}\".format(scorestrain.mean()))\n",
    "scorestest = cross_val_score(svr_rbf, X_test, y_test,cv=3)\n",
    "print(\"Cross-validation Test scores: {}\".format(scorestest.mean()))\n"
   ]
  },
  {
   "cell_type": "code",
   "execution_count": 86,
   "metadata": {},
   "outputs": [
    {
     "name": "stdout",
     "output_type": "stream",
     "text": [
      "Min of Pred: 0.18105884465654754\n",
      "Max of Pred: 41.30261700113657\n",
      "Min of Y test: 0.28\n",
      "Max of Y test: 45.983999999999995\n"
     ]
    }
   ],
   "source": [
    "svr_rbf = SVR(kernel='rbf', C=300, gamma=0.1, epsilon=.1)\n",
    "svr_rbf.fit(X_train,y_train)\n",
    "pred = svr_rbf.predict(X_test)\n",
    "\n",
    "print(\"Min of Pred: {}\".format(min(pred)))\n",
    "print(\"Max of Pred: {}\".format(max(pred)))\n",
    "print(\"Min of Y test: {}\".format(min(y_test)))\n",
    "print(\"Max of Y test: {}\".format(max(y_test)))"
   ]
  },
  {
   "cell_type": "markdown",
   "metadata": {},
   "source": [
    "# SVM Kernelized Regression - Linear\n"
   ]
  },
  {
   "cell_type": "code",
   "execution_count": 87,
   "metadata": {},
   "outputs": [],
   "source": [
    "c_range = [1,10,100,200,300]\n",
    "\n",
    "train_score_list = []\n",
    "test_score_list = []\n",
    "\n",
    "for x in c_range:\n",
    "    svr_lin = SVR(kernel='linear', C=x)\n",
    "    svr_lin.fit(X_train,y_train)\n",
    "    train_score_list.append(svr_lin.score(X_train,y_train))\n",
    "    test_score_list.append(svr_lin.score(X_test, y_test))"
   ]
  },
  {
   "cell_type": "code",
   "execution_count": 88,
   "metadata": {},
   "outputs": [
    {
     "name": "stdout",
     "output_type": "stream",
     "text": [
      "[0.827678566199388, 0.8317828054217848, 0.832083253182081, 0.8321513767629669, 0.832219207533136]\n",
      "[0.8492670709097057, 0.8527279069718032, 0.8529404777562363, 0.8531738385365542, 0.853279013492029]\n"
     ]
    }
   ],
   "source": [
    "print(train_score_list)\n",
    "print(test_score_list)"
   ]
  },
  {
   "cell_type": "code",
   "execution_count": 89,
   "metadata": {},
   "outputs": [
    {
     "data": {
      "text/plain": [
       "Text(0.5,0,'C')"
      ]
     },
     "execution_count": 89,
     "metadata": {},
     "output_type": "execute_result"
    },
    {
     "data": {
      "image/png": "[encoded data removed]",
      "text/plain": [
       "<Figure size 1080x360 with 1 Axes>"
      ]
     },
     "metadata": {},
     "output_type": "display_data"
    }
   ],
   "source": [
    "%matplotlib inline\n",
    "import matplotlib.pyplot as plt\n",
    "fig ,ax= plt.subplots(figsize = (15,5))\n",
    "plt.plot(c_range, train_score_list, c = 'g', label = 'Train Score')\n",
    "plt.plot(c_range, test_score_list, c = 'b', label = 'Test Score')\n",
    "#plt.xscale('log')\n",
    "plt.legend(loc = 3)\n",
    "plt.xlabel(r'C')"
   ]
  },
  {
   "cell_type": "code",
   "execution_count": 90,
   "metadata": {},
   "outputs": [
    {
     "name": "stdout",
     "output_type": "stream",
     "text": [
      "Train scores: 0.832219207533136\n",
      "Test scores: 0.853279013492029\n",
      "Cross-validation Train scores: 0.8338741324371276\n",
      "Cross-validation Test scores: 0.4113539582096941\n"
     ]
    }
   ],
   "source": [
    "svr_lin = SVR(kernel='linear', C=300)\n",
    "svr_lin.fit(X_train,y_train)\n",
    "\n",
    "print(\"Train scores: {}\".format(svr_lin.score(X_train, y_train)))\n",
    "print(\"Test scores: {}\".format(svr_lin.score(X_test, y_test)))\n",
    "scorestrain = cross_val_score(svr_lin, X_train, y_train,cv=3)\n",
    "print(\"Cross-validation Train scores: {}\".format(scorestrain.mean()))\n",
    "scorestest = cross_val_score(svr_lin, X_test, y_test,cv=3)\n",
    "print(\"Cross-validation Test scores: {}\".format(scorestest.mean()))"
   ]
  },
  {
   "cell_type": "markdown",
   "metadata": {},
   "source": [
    "# SVM Kernelized Regression - Polynomial"
   ]
  },
  {
   "cell_type": "code",
   "execution_count": 91,
   "metadata": {},
   "outputs": [],
   "source": [
    "deg_range = [1,2,3,4]\n",
    "coef_range = [1,2,3,4]\n",
    "\n",
    "train_score_list = []\n",
    "test_score_list = []\n",
    "index=[]\n",
    "\n",
    "for x in deg_range:\n",
    "    for c in coef_range:\n",
    "        index.append((x,c))\n",
    "        svr_poly = SVR(kernel='poly', C=200, degree=x, epsilon=.1,coef0=c)\n",
    "        svr_poly.fit(X_train,y_train)\n",
    "        train_score_list.append(svr_poly.score(X_train,y_train))\n",
    "        test_score_list.append(svr_poly.score(X_test, y_test))"
   ]
  },
  {
   "cell_type": "code",
   "execution_count": 92,
   "metadata": {},
   "outputs": [
    {
     "name": "stdout",
     "output_type": "stream",
     "text": [
      "[0.8315735627238405, 0.831562462797349, 0.8315624627972374, 0.8315602450789613, 0.9805473635869895, 0.9803499531972223, 0.9803343080149339, 0.9803279187653854, 0.99593291227507, 0.9985931001497356, 0.9996512242429201, 0.9999001956875747, 0.999484022191806, 0.9999254721348237, 0.9999374509298217, 0.9999284881519197]\n",
      "[0.8525928081317811, 0.8525937752999261, 0.8525937753030142, 0.8525772230780562, 0.9636875815875902, 0.9637883487703572, 0.9638056133663755, 0.9638679655836735, 0.9800467239353983, 0.9921167090336115, 0.9979084388775625, 0.9994349394317733, 0.9969096179436839, 0.9993361636789948, 0.9994982323694767, 0.9995313388305513]\n"
     ]
    }
   ],
   "source": [
    "print(train_score_list)\n",
    "print(test_score_list)"
   ]
  },
  {
   "cell_type": "code",
   "execution_count": 93,
   "metadata": {},
   "outputs": [
    {
     "data": {
      "text/plain": [
       "Text(0.5,0,'Degree and Coef')"
      ]
     },
     "execution_count": 93,
     "metadata": {},
     "output_type": "execute_result"
    },
    {
     "data": {
      "image/png": "[encoded data removed]",
      "text/plain": [
       "<Figure size 1080x360 with 1 Axes>"
      ]
     },
     "metadata": {},
     "output_type": "display_data"
    }
   ],
   "source": [
    "\n",
    "%matplotlib inline\n",
    "import matplotlib.pyplot as plt\n",
    "fig ,ax= plt.subplots(figsize = (15,5))\n",
    "plt.plot(range(len(index)), train_score_list, c = 'g', label = 'Train Score')\n",
    "plt.plot(range(len(index)), test_score_list, c = 'b', label = 'Test Score')\n",
    "plt.legend(loc = 3)\n",
    "plt.grid(True)\n",
    "plt.xticks(range(len(index)), index, rotation=90)\n",
    "plt.xlabel(r'Degree and Coef')"
   ]
  },
  {
   "cell_type": "code",
   "execution_count": 94,
   "metadata": {},
   "outputs": [
    {
     "name": "stdout",
     "output_type": "stream",
     "text": [
      "Train scores: 0.9999001956875747\n",
      "Test scores: 0.9994349394317733\n",
      "Cross-validation Train scores: 0.9865225740716443\n",
      "Cross-validation Test scores: 0.8553199478938587\n"
     ]
    }
   ],
   "source": [
    "svr_poly = SVR(kernel='poly', C=200, degree=3, epsilon=.1,coef0=4)\n",
    "svr_poly.fit(X_train,y_train)\n",
    "\n",
    "\n",
    "print(\"Train scores: {}\".format(svr_poly.score(X_train, y_train)))\n",
    "print(\"Test scores: {}\".format(svr_poly.score(X_test, y_test)))\n",
    "scorestrain = cross_val_score(svr_poly, X_train, y_train,cv=3)\n",
    "print(\"Cross-validation Train scores: {}\".format(scorestrain.mean()))\n",
    "scorestest = cross_val_score(svr_poly, X_test, y_test,cv=3)\n",
    "print(\"Cross-validation Test scores: {}\".format(scorestest.mean()))"
   ]
  },
  {
   "cell_type": "code",
   "execution_count": 95,
   "metadata": {},
   "outputs": [],
   "source": [
    "pred = svr_poly.predict(X_test)"
   ]
  },
  {
   "cell_type": "code",
   "execution_count": 96,
   "metadata": {},
   "outputs": [
    {
     "name": "stdout",
     "output_type": "stream",
     "text": [
      "Min of Pred: 0.20686038322950345\n",
      "Max of Pred: 46.24948476845274\n",
      "Min of Y test: 0.28\n",
      "Max of Y test: 45.983999999999995\n"
     ]
    }
   ],
   "source": [
    "print(\"Min of Pred: {}\".format(min(pred)))\n",
    "print(\"Max of Pred: {}\".format(max(pred)))\n",
    "print(\"Min of Y test: {}\".format(min(y_test)))\n",
    "print(\"Max of Y test: {}\".format(max(y_test)))"
   ]
  },
  {
   "cell_type": "code",
   "execution_count": 99,
   "metadata": {},
   "outputs": [],
   "source": [
    "x_range = np.linspace(0.24, 46, 180).reshape(-1,)"
   ]
  },
  {
   "cell_type": "code",
   "execution_count": 100,
   "metadata": {},
   "outputs": [
    {
     "data": {
      "image/png": "[encoded data removed]",
      "text/plain": [
       "<Figure size 1080x360 with 1 Axes>"
      ]
     },
     "metadata": {},
     "output_type": "display_data"
    }
   ],
   "source": [
    "%matplotlib inline\n",
    "import matplotlib.pyplot as plt\n",
    "fig ,ax= plt.subplots(figsize = (15,5))\n",
    "plt.plot(x_range, y_test, c = 'g', label = 'Actual')\n",
    "plt.plot(x_range, pred, c = 'b', label = 'Predicted')\n",
    "#plt.xscale('log')\n",
    "plt.legend(loc = 3)\n",
    "plt.grid(True)\n",
    "#plt.xlabel(r'Degree')\n",
    "\n"
   ]
  },
  {
   "cell_type": "code",
   "execution_count": null,
   "metadata": {},
   "outputs": [],
   "source": []
  },
  {
   "cell_type": "markdown",
   "metadata": {},
   "source": [
    "# Classification Task"
   ]
  },
  {
   "cell_type": "code",
   "execution_count": 104,
   "metadata": {},
   "outputs": [],
   "source": [
    "y = data['Risk']\n",
    "X=data.drop(['Risk'],axis=1, inplace=False)\n"
   ]
  },
  {
   "cell_type": "code",
   "execution_count": 105,
   "metadata": {},
   "outputs": [],
   "source": [
    "from sklearn.preprocessing import MinMaxScaler\n",
    "from sklearn.model_selection import train_test_split\n",
    "X_train_dt, X_test_dt, y_train, y_test = train_test_split(X,y,random_state=0,)\n",
    "\n",
    "Scaler= MinMaxScaler()\n",
    "X_train = Scaler.fit_transform(X_train_dt)\n",
    "X_test = Scaler.transform(X_test_dt)"
   ]
  },
  {
   "cell_type": "markdown",
   "metadata": {},
   "source": [
    "# LinearSVC"
   ]
  },
  {
   "cell_type": "code",
   "execution_count": 108,
   "metadata": {},
   "outputs": [
    {
     "name": "stdout",
     "output_type": "stream",
     "text": [
      "Train scores: 0.9869888475836431\n",
      "Test scores: 0.9777777777777777\n",
      "Cross-validation Train scores: 0.9758431615973514\n",
      "Cross-validation Test scores: 0.9498055015282022\n"
     ]
    }
   ],
   "source": [
    "\n",
    "from sklearn.svm import LinearSVC\n",
    "\n",
    "clf = LinearSVC()\n",
    "clf.fit(X_train,y_train)\n",
    "\n",
    "print(\"Train scores: {}\".format(clf.score(X_train, y_train)))\n",
    "print(\"Test scores: {}\".format(clf.score(X_test, y_test)))\n",
    "scorestrain = cross_val_score(clf, X_train, y_train,cv=3)\n",
    "print(\"Cross-validation Train scores: {}\".format(scorestrain.mean()))\n",
    "scorestest = cross_val_score(clf, X_test, y_test,cv=3)\n",
    "print(\"Cross-validation Test scores: {}\".format(scorestest.mean()))"
   ]
  },
  {
   "cell_type": "code",
   "execution_count": null,
   "metadata": {},
   "outputs": [],
   "source": []
  },
  {
   "cell_type": "markdown",
   "metadata": {},
   "source": [
    "# SVC Kernel - RBF"
   ]
  },
  {
   "cell_type": "code",
   "execution_count": 109,
   "metadata": {},
   "outputs": [],
   "source": [
    "from sklearn.svm import SVC\n",
    "\n",
    "c_range = [1,10,100,200,300]\n",
    "g_range = [0.01,0.1,1,5]\n",
    "\n",
    "train_score_list = []\n",
    "test_score_list = []\n",
    "index=[]\n",
    "\n",
    "for x in c_range:\n",
    "    for g in g_range:\n",
    "        index.append((x,g))\n",
    "        svc_rbf = SVC(kernel='rbf', gamma=g,C=x)\n",
    "        svc_rbf.fit(X_train,y_train)\n",
    "        train_score_list.append(svc_rbf.score(X_train,y_train))\n",
    "        test_score_list.append(svc_rbf.score(X_test, y_test))"
   ]
  },
  {
   "cell_type": "code",
   "execution_count": 110,
   "metadata": {},
   "outputs": [
    {
     "name": "stdout",
     "output_type": "stream",
     "text": [
      "[0.9423791821561338, 0.9684014869888475, 0.9851301115241635, 0.9869888475836431, 0.9684014869888475, 0.9795539033457249, 0.9888475836431226, 0.9925650557620818, 0.9776951672862454, 0.9869888475836431, 0.9944237918215614, 0.9962825278810409, 0.983271375464684, 0.9925650557620818, 0.9962825278810409, 0.9981412639405205, 0.9869888475836431, 0.9944237918215614, 0.9962825278810409, 0.9981412639405205]\n",
      "[0.9166666666666666, 0.9666666666666667, 0.9666666666666667, 0.9611111111111111, 0.9611111111111111, 0.9555555555555556, 0.9666666666666667, 0.9666666666666667, 0.9777777777777777, 0.9722222222222222, 0.9833333333333333, 0.9722222222222222, 0.9777777777777777, 0.9666666666666667, 0.9833333333333333, 0.9666666666666667, 0.9777777777777777, 0.9666666666666667, 0.9833333333333333, 0.9611111111111111]\n"
     ]
    }
   ],
   "source": [
    "print(train_score_list)\n",
    "print(test_score_list)"
   ]
  },
  {
   "cell_type": "code",
   "execution_count": 111,
   "metadata": {},
   "outputs": [
    {
     "data": {
      "text/plain": [
       "Text(0.5,0,'C and Gamma')"
      ]
     },
     "execution_count": 111,
     "metadata": {},
     "output_type": "execute_result"
    },
    {
     "data": {
      "image/png": "[encoded data removed]",
      "text/plain": [
       "<Figure size 1080x360 with 1 Axes>"
      ]
     },
     "metadata": {},
     "output_type": "display_data"
    }
   ],
   "source": [
    "\n",
    "%matplotlib inline\n",
    "import matplotlib.pyplot as plt\n",
    "fig ,ax= plt.subplots(figsize = (15,5))\n",
    "plt.plot(range(len(index)), train_score_list, c = 'g', label = 'Train Score')\n",
    "plt.plot(range(len(index)), test_score_list, c = 'b', label = 'Test Score')\n",
    "plt.legend(loc = 3)\n",
    "plt.grid(True)\n",
    "plt.xticks(range(len(index)), index, rotation=90)\n",
    "plt.xlabel(r'C and Gamma')"
   ]
  },
  {
   "cell_type": "code",
   "execution_count": 113,
   "metadata": {},
   "outputs": [
    {
     "name": "stdout",
     "output_type": "stream",
     "text": [
      "Train scores: 0.9962825278810409\n",
      "Test scores: 0.9833333333333333\n",
      "Cross-validation Train scores: 0.979557210842127\n",
      "Cross-validation Test scores: 0.9446173319749313\n"
     ]
    }
   ],
   "source": [
    "svc_rbf = SVC(kernel='rbf', gamma=1,C=200)\n",
    "svc_rbf.fit(X_train,y_train)\n",
    "\n",
    "print(\"Train scores: {}\".format(svc_rbf.score(X_train, y_train)))\n",
    "print(\"Test scores: {}\".format(svc_rbf.score(X_test, y_test)))\n",
    "scorestrain = cross_val_score(svc_rbf, X_train, y_train,cv=3)\n",
    "print(\"Cross-validation Train scores: {}\".format(scorestrain.mean()))\n",
    "scorestest = cross_val_score(svc_rbf, X_test, y_test,cv=3)\n",
    "print(\"Cross-validation Test scores: {}\".format(scorestest.mean()))"
   ]
  },
  {
   "cell_type": "code",
   "execution_count": null,
   "metadata": {},
   "outputs": [],
   "source": []
  },
  {
   "cell_type": "markdown",
   "metadata": {},
   "source": [
    "# SVC Kernel - Linear"
   ]
  },
  {
   "cell_type": "code",
   "execution_count": 114,
   "metadata": {},
   "outputs": [
    {
     "name": "stdout",
     "output_type": "stream",
     "text": [
      "[0.9776951672862454, 0.9869888475836431, 0.9925650557620818, 0.9925650557620818, 0.9944237918215614]\n",
      "[0.9777777777777777, 0.9777777777777777, 0.9722222222222222, 0.9833333333333333, 0.9888888888888889]\n"
     ]
    }
   ],
   "source": [
    "c_range = [1,10,100,200,300]\n",
    "\n",
    "train_score_list = []\n",
    "test_score_list = []\n",
    "\n",
    "for x in c_range:\n",
    "    svc_lin = SVC(kernel='linear', C=x)\n",
    "    svc_lin.fit(X_train,y_train)\n",
    "    train_score_list.append(svc_lin.score(X_train,y_train))\n",
    "    test_score_list.append(svc_lin.score(X_test, y_test))\n",
    "\n",
    "print(train_score_list)\n",
    "print(test_score_list)"
   ]
  },
  {
   "cell_type": "code",
   "execution_count": 115,
   "metadata": {},
   "outputs": [
    {
     "data": {
      "text/plain": [
       "Text(0.5,0,'C')"
      ]
     },
     "execution_count": 115,
     "metadata": {},
     "output_type": "execute_result"
    },
    {
     "data": {
      "image/png": "[encoded data removed]",
      "text/plain": [
       "<Figure size 1080x360 with 1 Axes>"
      ]
     },
     "metadata": {},
     "output_type": "display_data"
    }
   ],
   "source": [
    "%matplotlib inline\n",
    "import matplotlib.pyplot as plt\n",
    "fig ,ax= plt.subplots(figsize = (15,5))\n",
    "plt.plot(c_range, train_score_list, c = 'g', label = 'Train Score')\n",
    "plt.plot(c_range, test_score_list, c = 'b', label = 'Test Score')\n",
    "#plt.xscale('log')\n",
    "plt.legend(loc = 3)\n",
    "plt.xlabel(r'C')"
   ]
  },
  {
   "cell_type": "code",
   "execution_count": 127,
   "metadata": {},
   "outputs": [
    {
     "name": "stdout",
     "output_type": "stream",
     "text": [
      "Train scores: 0.9944237918215614\n",
      "Test scores: 0.9888888888888889\n",
      "Cross-validation Train scores: 0.9869853093316779\n",
      "Cross-validation Test scores: 0.9609166126393133\n",
      "Confusion matrix:\n",
      "[[115   0]\n",
      " [  2  63]]\n",
      "Accuracy in predicting Risk : 0.9888888888888889\n"
     ]
    }
   ],
   "source": [
    "from sklearn.metrics import confusion_matrix\n",
    "import statistics\n",
    "\n",
    "svc_lin = SVC(kernel='linear', C=300)\n",
    "svc_lin.fit(X_train,y_train)\n",
    "\n",
    "print(\"Train scores: {}\".format(svc_lin.score(X_train, y_train)))\n",
    "print(\"Test scores: {}\".format(svc_lin.score(X_test, y_test)))\n",
    "scorestrain = cross_val_score(svc_lin, X_train, y_train,cv=3)\n",
    "print(\"Cross-validation Train scores: {}\".format(scorestrain.mean()))\n",
    "scorestest = cross_val_score(svc_lin, X_test, y_test,cv=3)\n",
    "print(\"Cross-validation Test scores: {}\".format(scorestest.mean()))\n",
    "\n",
    "pred = svc_lin.predict(X_test)\n",
    "\n",
    "confusion = confusion_matrix(y_test, pred)\n",
    "print(\"Confusion matrix:\\n{}\".format(confusion))\n",
    "print(\"Accuracy in predicting Risk :\",statistics.mean(y_test==pred))"
   ]
  },
  {
   "cell_type": "markdown",
   "metadata": {},
   "source": [
    "# SVC Kernel - Polynomial"
   ]
  },
  {
   "cell_type": "code",
   "execution_count": 117,
   "metadata": {},
   "outputs": [],
   "source": [
    "deg_range = [1,2,3,4]\n",
    "c_range = [1,10,100,200,300]\n",
    "\n",
    "\n",
    "train_score_list = []\n",
    "test_score_list = []\n",
    "index=[]\n",
    "\n",
    "for x in deg_range:\n",
    "    for c in c_range:\n",
    "        index.append((x,c))\n",
    "        svc_poly = SVC(kernel='poly', degree=x, C=c)\n",
    "        svc_poly.fit(X_train,y_train)\n",
    "        train_score_list.append(svc_poly.score(X_train,y_train))\n",
    "        test_score_list.append(svc_poly.score(X_test, y_test))"
   ]
  },
  {
   "cell_type": "code",
   "execution_count": 118,
   "metadata": {},
   "outputs": [
    {
     "data": {
      "text/plain": [
       "Text(0.5,0,'Degree and C')"
      ]
     },
     "execution_count": 118,
     "metadata": {},
     "output_type": "execute_result"
    },
    {
     "data": {
      "image/png": "[encoded data removed]",
      "text/plain": [
       "<Figure size 1080x360 with 1 Axes>"
      ]
     },
     "metadata": {},
     "output_type": "display_data"
    }
   ],
   "source": [
    "%matplotlib inline\n",
    "import matplotlib.pyplot as plt\n",
    "fig ,ax= plt.subplots(figsize = (15,5))\n",
    "plt.plot(range(len(index)), train_score_list, c = 'g', label = 'Train Score')\n",
    "plt.plot(range(len(index)), test_score_list, c = 'b', label = 'Test Score')\n",
    "plt.legend(loc = 3)\n",
    "plt.grid(True)\n",
    "plt.xticks(range(len(index)), index, rotation=90)\n",
    "plt.xlabel(r'Degree and C')"
   ]
  },
  {
   "cell_type": "code",
   "execution_count": 121,
   "metadata": {},
   "outputs": [
    {
     "name": "stdout",
     "output_type": "stream",
     "text": [
      "Train scores: 0.9721189591078067\n",
      "Test scores: 0.9722222222222222\n",
      "Cross-validation Train scores: 0.9684254086488724\n",
      "Cross-validation Test scores: 0.9443410206538854\n"
     ]
    }
   ],
   "source": [
    "svc_poly = SVC(kernel='poly', degree=2, C=300)\n",
    "svc_poly.fit(X_train,y_train)\n",
    "\n",
    "print(\"Train scores: {}\".format(svc_poly.score(X_train, y_train)))\n",
    "print(\"Test scores: {}\".format(svc_poly.score(X_test, y_test)))\n",
    "scorestrain = cross_val_score(svc_poly, X_train, y_train,cv=3)\n",
    "print(\"Cross-validation Train scores: {}\".format(scorestrain.mean()))\n",
    "scorestest = cross_val_score(svc_poly, X_test, y_test,cv=3)\n",
    "print(\"Cross-validation Test scores: {}\".format(scorestest.mean()))"
   ]
  },
  {
   "cell_type": "code",
   "execution_count": null,
   "metadata": {},
   "outputs": [],
   "source": []
  },
  {
   "cell_type": "markdown",
   "metadata": {},
   "source": [
    "# Decision Tree "
   ]
  },
  {
   "cell_type": "code",
   "execution_count": 150,
   "metadata": {},
   "outputs": [
    {
     "name": "stdout",
     "output_type": "stream",
     "text": [
      "Accuracy on training set: 1.000\n",
      "Accuracy on test set: 1.000\n"
     ]
    }
   ],
   "source": [
    "from sklearn.tree import DecisionTreeClassifier\n",
    "\n",
    "y = data['Risk']\n",
    "X=data.drop(['Risk'],axis=1, inplace=False)\n",
    "\n",
    "from sklearn.model_selection import train_test_split\n",
    "X_train_dt, X_test_dt, y_train, y_test = train_test_split(X,y,random_state=0,)\n",
    "\n",
    "dtree = DecisionTreeClassifier(random_state=0)\n",
    "\n",
    "dtree.fit(X_train_dt, y_train)\n",
    "print(\"Accuracy on training set: {:.3f}\".format(dtree.score(X_train_dt, y_train)))\n",
    "print(\"Accuracy on test set: {:.3f}\".format(dtree.score(X_test_dt, y_test)))"
   ]
  },
  {
   "cell_type": "code",
   "execution_count": 151,
   "metadata": {},
   "outputs": [],
   "source": [
    "m_range = [1,2,3,4,5]\n",
    "\n",
    "train_score_list = []\n",
    "test_score_list = []\n",
    "\n",
    "for m in m_range:\n",
    "    dtree = DecisionTreeClassifier(max_depth=m, random_state=0)\n",
    "    dtree.fit(X_train_dt, y_train)\n",
    "    train_score_list.append(dtree.score(X_train_dt,y_train))\n",
    "    test_score_list.append(dtree.score(X_test_dt, y_test))\n"
   ]
  },
  {
   "cell_type": "code",
   "execution_count": 152,
   "metadata": {},
   "outputs": [
    {
     "name": "stdout",
     "output_type": "stream",
     "text": [
      "[1.0, 1.0, 1.0, 1.0, 1.0]\n",
      "[1.0, 1.0, 1.0, 1.0, 1.0]\n",
      "Cross-validation Train scores: 1.0\n",
      "Cross-validation Test scores: 0.9945355191256832\n"
     ]
    }
   ],
   "source": [
    "print(train_score_list)\n",
    "print(test_score_list)\n",
    "\n",
    "scorestrain = cross_val_score(dtree, X_train_dt, y_train,cv=3)\n",
    "print(\"Cross-validation Train scores: {}\".format(scorestrain.mean()))\n",
    "scorestest = cross_val_score(dtree, X_test_dt, y_test,cv=3)\n",
    "print(\"Cross-validation Test scores: {}\".format(scorestest.mean()))"
   ]
  },
  {
   "cell_type": "code",
   "execution_count": null,
   "metadata": {},
   "outputs": [],
   "source": []
  },
  {
   "cell_type": "code",
   "execution_count": 153,
   "metadata": {},
   "outputs": [
    {
     "data": {
      "image/png": "[encoded data removed]",
      "text/plain": [
       "<Figure size 432x288 with 1 Axes>"
      ]
     },
     "metadata": {},
     "output_type": "display_data"
    }
   ],
   "source": [
    "%matplotlib inline\n",
    "def plot_feature_importances_cancer(model):\n",
    "    n_features = X_train_dt.shape[1]\n",
    "    plt.barh(range(n_features), model.feature_importances_, align='center')\n",
    "    plt.yticks(np.arange(n_features), X_train_dt.columns.values)\n",
    "    plt.xlabel(\"Feature importance\")\n",
    "    plt.ylabel(\"Feature\")\n",
    "    plt.ylim(-1, n_features)\n",
    "\n",
    "plot_feature_importances_cancer(dtree)"
   ]
  },
  {
   "cell_type": "markdown",
   "metadata": {},
   "source": [
    "# Best Classifications - 1) SVC Kernel Linear"
   ]
  },
  {
   "cell_type": "code",
   "execution_count": 154,
   "metadata": {},
   "outputs": [
    {
     "name": "stdout",
     "output_type": "stream",
     "text": [
      "Train scores: 0.9944237918215614\n",
      "Test scores: 0.9888888888888889\n",
      "Cross-validation Train scores: 0.9869853093316779\n",
      "Cross-validation Test scores: 0.9609166126393133\n",
      "Confusion matrix:\n",
      "[[115   0]\n",
      " [  2  63]]\n",
      "Accuracy in predicting Risk : 98.88888888888889 %\n"
     ]
    }
   ],
   "source": [
    "#Scaler= MinMaxScaler()\n",
    "#X_train = Scaler.fit_transform(X_train_dt)\n",
    "#X_test = Scaler.transform(X_test_dt)\n",
    "\n",
    "\n",
    "from sklearn.metrics import confusion_matrix\n",
    "import statistics\n",
    "\n",
    "svc_lin = SVC(kernel='linear', C=300)\n",
    "svc_lin.fit(X_train,y_train)\n",
    "\n",
    "print(\"Train scores: {}\".format(svc_lin.score(X_train, y_train)))\n",
    "print(\"Test scores: {}\".format(svc_lin.score(X_test, y_test)))\n",
    "scorestrain = cross_val_score(svc_lin, X_train, y_train,cv=3)\n",
    "print(\"Cross-validation Train scores: {}\".format(scorestrain.mean()))\n",
    "scorestest = cross_val_score(svc_lin, X_test, y_test,cv=3)\n",
    "print(\"Cross-validation Test scores: {}\".format(scorestest.mean()))\n",
    "\n",
    "pred = svc_lin.predict(X_test)\n",
    "\n",
    "confusion = confusion_matrix(y_test, pred)\n",
    "print(\"Confusion matrix:\\n{}\".format(confusion))\n",
    "print(\"Accuracy in predicting Risk :\",(statistics.mean(y_test==pred)*100),'%')"
   ]
  },
  {
   "cell_type": "markdown",
   "metadata": {},
   "source": [
    "# 2) Decision Tree"
   ]
  },
  {
   "cell_type": "code",
   "execution_count": 155,
   "metadata": {},
   "outputs": [
    {
     "name": "stdout",
     "output_type": "stream",
     "text": [
      "Confusion matrix:\n",
      "[[115   0]\n",
      " [  0  65]]\n",
      "Accuracy in predicting Risk : 100 %\n"
     ]
    }
   ],
   "source": [
    "\n",
    "dtree = DecisionTreeClassifier(random_state=0)\n",
    "\n",
    "dtree.fit(X_train_dt, y_train)\n",
    "pred=dtree.predict(X_test_dt)\n",
    "\n",
    "confusion = confusion_matrix(y_test, pred)\n",
    "print(\"Confusion matrix:\\n{}\".format(confusion))\n",
    "print(\"Accuracy in predicting Risk :\",(statistics.mean(y_test==pred)*100),'%')"
   ]
  },
  {
   "cell_type": "code",
   "execution_count": null,
   "metadata": {},
   "outputs": [],
   "source": []
  }
 ],
 "metadata": {
  "kernelspec": {
   "display_name": "Python 3",
   "language": "python",
   "name": "python3"
  },
  "language_info": {
   "codemirror_mode": {
    "name": "ipython",
    "version": 3
   },
   "file_extension": ".py",
   "mimetype": "text/x-python",
   "name": "python",
   "nbconvert_exporter": "python",
   "pygments_lexer": "ipython3",
   "version": "3.6.5"
  }
 },
 "nbformat": 4,
 "nbformat_minor": 2
}
